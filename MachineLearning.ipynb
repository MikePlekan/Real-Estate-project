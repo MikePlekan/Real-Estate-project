{
 "cells": [
  {
   "cell_type": "markdown",
   "id": "e27a7413-9f81-4ee5-831e-58be2ca06f9b",
   "metadata": {},
   "source": [
    "# Zillow Data"
   ]
  },
  {
   "cell_type": "markdown",
   "id": "4e30fbd2-3942-4c9a-aad5-1830c1e8101c",
   "metadata": {},
   "source": [
    "# Start of machine learing. The rest is done in APIMachineLearning"
   ]
  },
  {
   "cell_type": "code",
   "execution_count": null,
   "id": "9e38cf33-9c3a-4804-adf0-1bbf04de8437",
   "metadata": {},
   "outputs": [],
   "source": [
    "import pandas as pd\n",
    "import plotly.express as px\n",
    "import matplotlib.pylab as plt\n",
    "import seaborn as sns\n",
    "\n",
    "\n",
    "import utils as utils\n",
    "\n",
    "from sklearn.model_selection import train_test_split\n",
    "from sklearn.tree import DecisionTreeClassifier\n",
    "from sklearn.ensemble import HistGradientBoostingClassifier\n",
    "from sklearn import svm\n",
    "from sklearn.neural_network import MLPClassifier\n",
    "from sklearn import tree\n",
    "from sklearn import metrics\n",
    "from sklearn import preprocessing\n",
    "\n",
    "%reload_ext autoreload\n",
    "%autoreload 2\n",
    "df=utils.get_df('./zillowData/County_time_series.csv')"
   ]
  },
  {
   "cell_type": "code",
   "execution_count": null,
   "id": "7f41083c-de6a-441c-a768-cfc4bf4eaa6d",
   "metadata": {},
   "outputs": [],
   "source": [
    "def customAccuracy(predicted, actual, accuracy):\n",
    "    total = 0\n",
    "    true = 0\n",
    "    for i,y in zip(predications,actual):\n",
    "        temp = y * accuracy/100\n",
    "        bottomRange = y - temp\n",
    "        topRange = y + temp\n",
    "        if (i > bottomRange and i < topRange):\n",
    "            true += 1\n",
    "            total += 1\n",
    "        else:\n",
    "            total += 1\n",
    "            \n",
    "    return true/total"
   ]
  },
  {
   "cell_type": "code",
   "execution_count": null,
   "id": "3376e17c-ed48-4e97-b3e8-aeb9f611cde8",
   "metadata": {},
   "outputs": [],
   "source": [
    "#print(df.columns)"
   ]
  },
  {
   "cell_type": "code",
   "execution_count": null,
   "id": "c98f3509-8654-4c04-b3fb-f8d5ce25a002",
   "metadata": {},
   "outputs": [],
   "source": [
    "df"
   ]
  },
  {
   "cell_type": "code",
   "execution_count": null,
   "id": "43b1d3d7-d727-4129-a273-c2049262b1d5",
   "metadata": {},
   "outputs": [],
   "source": [
    "df=utils.get_df('./zillowData/County_time_series.csv')\n",
    "df=df.query(\"RegionName != 'United_States'\")\n",
    "df=df[['RegionName', 'MedianListingPricePerSqft_1Bedroom',\n",
    "       'MedianListingPricePerSqft_2Bedroom',\n",
    "       'MedianListingPricePerSqft_3Bedroom',\n",
    "       'MedianListingPricePerSqft_4Bedroom',\n",
    "       'MedianListingPricePerSqft_5BedroomOrMore',\n",
    "       'MedianListingPricePerSqft_AllHomes',\n",
    "       'MedianListingPricePerSqft_CondoCoop',\n",
    "       'MedianListingPricePerSqft_DuplexTriplex',\n",
    "    'Sale_Prices']].dropna(axis=0)\n",
    "df"
   ]
  },
  {
   "cell_type": "code",
   "execution_count": null,
   "id": "233eed98-f3e7-4c11-8785-7669d02741f8",
   "metadata": {},
   "outputs": [],
   "source": [
    "x = df[['RegionName', 'MedianListingPricePerSqft_1Bedroom',\n",
    "       'MedianListingPricePerSqft_2Bedroom',\n",
    "       'MedianListingPricePerSqft_3Bedroom',\n",
    "       'MedianListingPricePerSqft_4Bedroom',\n",
    "       'MedianListingPricePerSqft_5BedroomOrMore',\n",
    "       'MedianListingPricePerSqft_AllHomes',\n",
    "       'MedianListingPricePerSqft_CondoCoop',\n",
    "       'MedianListingPricePerSqft_DuplexTriplex']]\n",
    "\n",
    "y = df[\"Sale_Prices\"]\n",
    "print(x.shape)\n",
    "\n",
    "X_train, X_test, y_train, y_test = train_test_split(x, y, test_size=0.2, random_state=42)\n",
    "\n",
    "clf = svm.SVC()\n",
    "\n",
    "clf.fit(X_train, y_train)\n",
    "\n",
    "predications = clf.predict(X_test)\n",
    "\n",
    "accuracy = metrics.accuracy_score(y_test, predications)\n",
    "\n",
    "print(f\"accuracy: {accuracy:.2f}\")"
   ]
  },
  {
   "cell_type": "code",
   "execution_count": null,
   "id": "c710407a-9819-40d3-b793-ecef7ca21bad",
   "metadata": {},
   "outputs": [],
   "source": [
    "print(len(X_train))\n",
    "print(len(y_train))\n",
    "\n",
    "print(len(X_test))\n",
    "print(len(y_test))"
   ]
  },
  {
   "cell_type": "code",
   "execution_count": null,
   "id": "cf2ef683-10fd-4d92-9f4f-f464a1a95256",
   "metadata": {},
   "outputs": [],
   "source": [
    "print(len(y_test))\n",
    "print(len(predications))\n",
    "y_test[0:5]"
   ]
  },
  {
   "cell_type": "code",
   "execution_count": null,
   "id": "775540a5-1423-4d83-894b-ccef1aab48bc",
   "metadata": {},
   "outputs": [],
   "source": [
    "# Testing custom accuracy \n",
    "customAccuracy(predications, y_test, 100)"
   ]
  },
  {
   "cell_type": "code",
   "execution_count": null,
   "id": "dce70f52-eaaa-450a-984a-da47bfb12410",
   "metadata": {},
   "outputs": [],
   "source": [
    "# Visual check predicted and actual \n",
    "for i,y in zip(predications,y_test):\n",
    "    temp = y * accuracy/100\n",
    "    bottomRange = y - temp\n",
    "    topRange = y + temp"
   ]
  },
  {
   "cell_type": "code",
   "execution_count": null,
   "id": "7d4ddbb6-17ec-451f-8820-f0db20d1ffc4",
   "metadata": {},
   "outputs": [],
   "source": []
  },
  {
   "cell_type": "code",
   "execution_count": null,
   "id": "6a7af9fd-f488-4f0a-ad18-69fd6e0c3e4c",
   "metadata": {},
   "outputs": [],
   "source": []
  }
 ],
 "metadata": {
  "kernelspec": {
   "display_name": "Python 3 (ipykernel)",
   "language": "python",
   "name": "python3"
  },
  "language_info": {
   "codemirror_mode": {
    "name": "ipython",
    "version": 3
   },
   "file_extension": ".py",
   "mimetype": "text/x-python",
   "name": "python",
   "nbconvert_exporter": "python",
   "pygments_lexer": "ipython3",
   "version": "3.9.13"
  }
 },
 "nbformat": 4,
 "nbformat_minor": 5
}
