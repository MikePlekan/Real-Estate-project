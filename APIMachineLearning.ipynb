{
 "cells": [
  {
   "cell_type": "code",
   "execution_count": null,
   "id": "35c72103-2d30-4249-9ea2-666630275aed",
   "metadata": {},
   "outputs": [],
   "source": [
    "import pandas as pd\n",
    "import plotly.express as px\n",
    "import matplotlib.pylab as plt\n",
    "import seaborn as sns\n",
    "import numpy as np\n",
    "import utils as utils\n",
    "\n",
    "from sklearn.model_selection import train_test_split\n",
    "from sklearn.tree import DecisionTreeClassifier\n",
    "from sklearn.ensemble import HistGradientBoostingClassifier\n",
    "from sklearn import svm\n",
    "from sklearn.neural_network import MLPClassifier\n",
    "from sklearn import tree\n",
    "from sklearn import metrics\n",
    "from sklearn import preprocessing\n",
    "from sklearn.linear_model import LinearRegression\n",
    "\n",
    "from sklearn.neural_network import MLPRegressor\n",
    "from sklearn.datasets import make_regression\n",
    "\n",
    "%reload_ext autoreload\n",
    "%autoreload 2"
   ]
  },
  {
   "cell_type": "code",
   "execution_count": null,
   "id": "8c8ad584-975c-4f33-8e08-d709fc36c883",
   "metadata": {},
   "outputs": [],
   "source": [
    "def customAccuracy(predicted, actual, accuracy):\n",
    "    total = 0\n",
    "    true = 0\n",
    "    for i,y in zip(predicted,actual):\n",
    "        temp = y * accuracy/100\n",
    "        bottomRange = y - temp\n",
    "        topRange = y + temp\n",
    "        if (i > bottomRange and i < topRange):\n",
    "            true += 1\n",
    "            total += 1\n",
    "        else:\n",
    "            total += 1\n",
    "            \n",
    "    return true/total"
   ]
  },
  {
   "cell_type": "code",
   "execution_count": null,
   "id": "3deca5e1-d173-4f28-9889-e5c06642266b",
   "metadata": {},
   "outputs": [],
   "source": [
    "url1 = \"https://raw.githubusercontent.com/MikePlekan/Real-Estate-project/Michael/data.csv\"\n",
    "url2 = \"https://raw.githubusercontent.com/MikePlekan/Real-Estate-project/Michael/sales.csv\"\n",
    "\n",
    "df = pd.read_csv(url1)\n",
    "sales = pd.read_csv(url2)\n",
    "df['prices'] = sales['saleamt']\n",
    "df = df.dropna(axis=0)\n",
    "df"
   ]
  },
  {
   "cell_type": "code",
   "execution_count": null,
   "id": "feaf5583-a0eb-40dc-a78b-bfb8a4ff0224",
   "metadata": {},
   "outputs": [],
   "source": [
    "price = df['prices']\n",
    "median = np.median(price)\n",
    "q3,q1 = np.percentile(price,[75 ,25])\n",
    "print(f\"The price for the data is: ${median}\")\n",
    "print(f\"The Q1 for the data is: ${q1}\")\n",
    "print(f\"The Q2 for the data is: ${q3}\")\n",
    "print(f\"The IQR for the data is: ${q3-q1}\")\n",
    "\n",
    "fig, ax = plt.subplots()\n",
    "df['prices'].plot.hist(bins=50, figsize=(12,6))\n",
    "plt.ticklabel_format(style='plain', axis='x')\n",
    "plt.title(\"Housing prices\")\n",
    "plt.xlabel(\"Price ($)\")\n",
    "\n",
    "#ax.set_xlim([0, 200000])"
   ]
  },
  {
   "cell_type": "code",
   "execution_count": null,
   "id": "37b5c8f4-9f40-41a5-a16b-097e37e942a1",
   "metadata": {},
   "outputs": [],
   "source": [
    "min(price)"
   ]
  },
  {
   "cell_type": "code",
   "execution_count": null,
   "id": "9525fd3e-c8b3-4419-a09b-a760f9ae9e9f",
   "metadata": {},
   "outputs": [],
   "source": [
    "# Model\n",
    "model = LinearRegression()\n",
    "\n",
    "x = df['universalsize'].values.reshape(-1,1)\n",
    "y = df['prices'].values\n",
    "\n",
    "# Perform regression\n",
    "model.fit(x,y)\n",
    "\n",
    "# Calculate r^2\n",
    "r_sq = model.score(x, y)\n",
    "print(f'Coefficient of determination: {r_sq:.4f}')\n",
    "\n",
    "cc = df[['universalsize','prices']].corr().iloc[0][1]\n",
    "print(f'corr coeff:                   {cc:.4f}')\n",
    "print(f'corr coeff^2:                 {cc**2:.4f}')\n",
    "\n",
    "# Slope and intercept of the line-of-best-fit\n",
    "print(f\"The intercept for the line-of-best-fit is {model.intercept_:.2f}\")\n",
    "print(f\"The slope for the line-of-best-fit is     {model.coef_[0]:.2f}\")\n",
    "\n",
    "# The equation for a line is\n",
    "# y = mx + b\n",
    "b = model.intercept_\n",
    "m = model.coef_\n",
    "xpts = np.linspace(200,7500)\n",
    "ypts = m*xpts + b\n",
    "\n",
    "# Plotting\n",
    "df.plot.scatter(x = 'universalsize' ,y = 'prices',label=f'corr coef={cc:.2f}', alpha=0.2)\n",
    "plt.title(\"Size vs Price\")\n",
    "plt.xlabel(f\"Size (ft^2)\", fontsize=14)\n",
    "plt.ylabel(\"Price ($)\", fontsize=14)\n",
    "plt.plot(xpts,ypts,'r-', label='Linear regression line')\n",
    "plt.ticklabel_format(style='plain', axis='y')\n",
    "plt.legend(fontsize=14)"
   ]
  },
  {
   "cell_type": "markdown",
   "id": "bf102dff-5d27-4bb6-a0dc-9b679d93a21c",
   "metadata": {},
   "source": [
    "# HistGradientBoosting"
   ]
  },
  {
   "cell_type": "code",
   "execution_count": null,
   "id": "e0bf1d23-7a9b-47a0-80c1-fd77c5e36df4",
   "metadata": {},
   "outputs": [],
   "source": [
    "X_trainHist, X_testHist, y_trainHist, y_testHist = train_test_split(df[['yearbuilt','universalsize','beds','bathstotal','zipcode']],df['prices'], test_size=0.6, random_state=42)\n",
    "\n",
    "clf = HistGradientBoostingClassifier()\n",
    "\n",
    "clf.fit(X_trainHist, y_trainHist)\n",
    "\n",
    "predicationsHist = clf.predict(X_testHist)\n",
    "\n",
    "accuracy = metrics.adjusted_rand_score(y_testHist, predicationsHist)\n",
    "\n",
    "print(f\"accuracy: {accuracy:.2f}\")\n",
    "customAccuracy(predicationsHist, y_testHist, 10)"
   ]
  },
  {
   "cell_type": "code",
   "execution_count": null,
   "id": "a0afb737-a5f2-43ab-82ba-dbda1d77b897",
   "metadata": {},
   "outputs": [],
   "source": [
    "checkHist = pd.DataFrame(y_testHist)\n",
    "checkHist['predicitons'] = predicationsHist\n",
    "checkHist['percent'] = ((predicationsHist-y_testHist)/y_testHist)*100\n",
    "pd.set_option('display.float_format', lambda x: f'{x:.2f}')"
   ]
  },
  {
   "cell_type": "code",
   "execution_count": null,
   "id": "679e2e5f-efe7-4d62-a962-2633cf764f70",
   "metadata": {},
   "outputs": [],
   "source": [
    "print(customAccuracy(predicationsHist, y_testHist, 20))\n",
    "checkHist.head(15)"
   ]
  },
  {
   "cell_type": "markdown",
   "id": "f34cb4f1-b4a7-4d48-a9aa-77b2c24a8a2b",
   "metadata": {},
   "source": [
    "# Regression"
   ]
  },
  {
   "cell_type": "code",
   "execution_count": null,
   "id": "db185c66-c220-450a-b40e-34fe9e3ace36",
   "metadata": {},
   "outputs": [],
   "source": [
    "X_trainReg, X_testReg, y_trainReg, y_testReg = train_test_split(df[['yearbuilt','universalsize','beds','bathstotal','zipcode']],df['prices'], test_size=0.6, random_state=42)\n",
    "\n",
    "regr = MLPRegressor(random_state=42,max_iter = 5000).fit(X_trainReg, y_trainReg)\n",
    "predictionsReg = regr.predict(X_testReg)\n",
    "\n",
    "regr.score(X_testReg, y_testReg)"
   ]
  },
  {
   "cell_type": "code",
   "execution_count": null,
   "id": "9af5db16-0c3f-43d0-aa8d-d629bb7647f4",
   "metadata": {},
   "outputs": [],
   "source": [
    "checkReg = pd.DataFrame(y_testReg)\n",
    "checkReg['predicitons'] = predictionsReg\n",
    "checkReg['percent'] = ((predictionsReg-y_testReg)/y_testReg)*100\n",
    "pd.set_option('display.float_format', lambda x: f'{x:.2f}')"
   ]
  },
  {
   "cell_type": "code",
   "execution_count": null,
   "id": "ea0959ac-978b-4072-a8e0-facc202c0e59",
   "metadata": {},
   "outputs": [],
   "source": [
    "print(customAccuracy(predictionsReg, y_testReg, 20))\n",
    "checkReg.head(15)"
   ]
  },
  {
   "cell_type": "code",
   "execution_count": null,
   "id": "d6919962-1c20-4d8d-9df9-60032c9c4f4a",
   "metadata": {},
   "outputs": [],
   "source": [
    "fig, ax = plt.subplots()\n",
    "ax.set_ylim([0, 6000000])\n",
    "ax.set_xlim([0, 6000000])\n",
    "plt.scatter(y_testReg, predictionsReg, alpha = 0.3) \n",
    "plt.xlabel(f\"Actual Value\", fontsize=14)\n",
    "plt.ylabel(\"Predicted Value\", fontsize=14)\n",
    "ax.axline((0, 0), slope=1)\n",
    "plt.ticklabel_format(style='plain', axis='y')\n",
    "plt.ticklabel_format(style='plain', axis='x')\n",
    "plt.legend(fontsize=14)"
   ]
  },
  {
   "cell_type": "code",
   "execution_count": null,
   "id": "4433c43b-d480-4f96-a576-f7ece24eb78a",
   "metadata": {},
   "outputs": [],
   "source": []
  }
 ],
 "metadata": {
  "kernelspec": {
   "display_name": "Python 3 (ipykernel)",
   "language": "python",
   "name": "python3"
  },
  "language_info": {
   "codemirror_mode": {
    "name": "ipython",
    "version": 3
   },
   "file_extension": ".py",
   "mimetype": "text/x-python",
   "name": "python",
   "nbconvert_exporter": "python",
   "pygments_lexer": "ipython3",
   "version": "3.9.13"
  }
 },
 "nbformat": 4,
 "nbformat_minor": 5
}
