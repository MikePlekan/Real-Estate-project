{
 "cells": [
  {
   "cell_type": "code",
   "execution_count": 10,
   "metadata": {},
   "outputs": [],
   "source": [
    "import pandas as pd\n",
    "import seaborn as sb\n",
    "import seaborn.objects as so\n",
    "import utils as utils\n",
    "import plotly.express as px\n",
    "%reload_ext autoreload\n",
    "%autoreload 2\n",
    "\n"
   ]
  },
  {
   "cell_type": "code",
   "execution_count": 5,
   "metadata": {},
   "outputs": [
    {
     "name": "stderr",
     "output_type": "stream",
     "text": [
      "/tmp/ipykernel_10080/2673044238.py:5: FutureWarning: The frame.append method is deprecated and will be removed from pandas in a future version. Use pandas.concat instead.\n",
      "  temp=temp.append(df[1],ignore_index=True)\n",
      "/tmp/ipykernel_10080/2673044238.py:6: FutureWarning: The frame.append method is deprecated and will be removed from pandas in a future version. Use pandas.concat instead.\n",
      "  temp=temp.append(df[2],ignore_index=True)\n",
      "/tmp/ipykernel_10080/2673044238.py:7: FutureWarning: The frame.append method is deprecated and will be removed from pandas in a future version. Use pandas.concat instead.\n",
      "  temp=temp.append(df[3],ignore_index=True)\n",
      "/tmp/ipykernel_10080/2673044238.py:8: FutureWarning: The frame.append method is deprecated and will be removed from pandas in a future version. Use pandas.concat instead.\n",
      "  temp=temp.append(df[4],ignore_index=True)\n",
      "/tmp/ipykernel_10080/2673044238.py:9: FutureWarning: The frame.append method is deprecated and will be removed from pandas in a future version. Use pandas.concat instead.\n",
      "  temp=temp.append(df[5],ignore_index=True)\n",
      "/tmp/ipykernel_10080/2673044238.py:10: FutureWarning: The frame.append method is deprecated and will be removed from pandas in a future version. Use pandas.concat instead.\n",
      "  temp=temp.append(df[6],ignore_index=True)\n"
     ]
    }
   ],
   "source": [
    "#only uncomment and run if the county.csv needs to be created\n",
    "#cleaning of the csv will need to be done after running, deletion of extra newlines and spaces\n",
    "\n",
    "# import tabula\n",
    "# df=tabula.read_pdf(\"2022-q3-county-median-prices-and-monthly-mortgage-payment-by-price-12-20-2022.pdf\" , pages='all', pandas_options={'header':None})\n",
    "# temp=df[0]\n",
    "# temp=temp.append(df[1],ignore_index=True)\n",
    "# temp=temp.append(df[2],ignore_index=True)\n",
    "# temp=temp.append(df[3],ignore_index=True)\n",
    "# temp=temp.append(df[4],ignore_index=True)\n",
    "# temp=temp.append(df[5],ignore_index=True)\n",
    "# temp=temp.append(df[6],ignore_index=True)\n",
    "# temp.columns=temp.iloc[0]\n",
    "# temp=temp.drop(0,axis=0)\n",
    "# temp.to_csv('county.csv', index=False)"
   ]
  },
  {
   "cell_type": "code",
   "execution_count": 31,
   "metadata": {},
   "outputs": [
    {
     "data": {
      "text/plain": [
       "Index(['County Name', 'Median Home Price', 'Monthly Payment 2022',\n",
       "       'Monthly Payment 2021'],\n",
       "      dtype='object')"
      ]
     },
     "execution_count": 31,
     "metadata": {},
     "output_type": "execute_result"
    }
   ],
   "source": [
    "counties=pd.read_csv('./county.csv', thousands=',')\n",
    "counties.columns\n"
   ]
  },
  {
   "cell_type": "code",
   "execution_count": 32,
   "metadata": {},
   "outputs": [
    {
     "data": {
      "text/html": [
       "<div>\n",
       "<style scoped>\n",
       "    .dataframe tbody tr th:only-of-type {\n",
       "        vertical-align: middle;\n",
       "    }\n",
       "\n",
       "    .dataframe tbody tr th {\n",
       "        vertical-align: top;\n",
       "    }\n",
       "\n",
       "    .dataframe thead th {\n",
       "        text-align: right;\n",
       "    }\n",
       "</style>\n",
       "<table border=\"1\" class=\"dataframe\">\n",
       "  <thead>\n",
       "    <tr style=\"text-align: right;\">\n",
       "      <th></th>\n",
       "      <th>Median Home Price</th>\n",
       "      <th>Monthly Payment 2022</th>\n",
       "      <th>Monthly Payment 2021</th>\n",
       "    </tr>\n",
       "  </thead>\n",
       "  <tbody>\n",
       "    <tr>\n",
       "      <th>count</th>\n",
       "      <td>2.760000e+02</td>\n",
       "      <td>276.000000</td>\n",
       "      <td>276.000000</td>\n",
       "    </tr>\n",
       "    <tr>\n",
       "      <th>mean</th>\n",
       "      <td>5.438051e+05</td>\n",
       "      <td>2815.905797</td>\n",
       "      <td>1756.159420</td>\n",
       "    </tr>\n",
       "    <tr>\n",
       "      <th>std</th>\n",
       "      <td>1.983065e+05</td>\n",
       "      <td>1026.861190</td>\n",
       "      <td>650.083432</td>\n",
       "    </tr>\n",
       "    <tr>\n",
       "      <th>min</th>\n",
       "      <td>3.842600e+05</td>\n",
       "      <td>1990.000000</td>\n",
       "      <td>1140.000000</td>\n",
       "    </tr>\n",
       "    <tr>\n",
       "      <th>25%</th>\n",
       "      <td>4.164250e+05</td>\n",
       "      <td>2160.000000</td>\n",
       "      <td>1350.000000</td>\n",
       "    </tr>\n",
       "    <tr>\n",
       "      <th>50%</th>\n",
       "      <td>4.694150e+05</td>\n",
       "      <td>2430.000000</td>\n",
       "      <td>1500.000000</td>\n",
       "    </tr>\n",
       "    <tr>\n",
       "      <th>75%</th>\n",
       "      <td>5.847150e+05</td>\n",
       "      <td>3025.000000</td>\n",
       "      <td>1890.000000</td>\n",
       "    </tr>\n",
       "    <tr>\n",
       "      <th>max</th>\n",
       "      <td>1.575280e+06</td>\n",
       "      <td>8160.000000</td>\n",
       "      <td>5270.000000</td>\n",
       "    </tr>\n",
       "  </tbody>\n",
       "</table>\n",
       "</div>"
      ],
      "text/plain": [
       "       Median Home Price  Monthly Payment 2022  Monthly Payment 2021\n",
       "count       2.760000e+02            276.000000            276.000000\n",
       "mean        5.438051e+05           2815.905797           1756.159420\n",
       "std         1.983065e+05           1026.861190            650.083432\n",
       "min         3.842600e+05           1990.000000           1140.000000\n",
       "25%         4.164250e+05           2160.000000           1350.000000\n",
       "50%         4.694150e+05           2430.000000           1500.000000\n",
       "75%         5.847150e+05           3025.000000           1890.000000\n",
       "max         1.575280e+06           8160.000000           5270.000000"
      ]
     },
     "execution_count": 32,
     "metadata": {},
     "output_type": "execute_result"
    }
   ],
   "source": [
    "counties.describe()"
   ]
  },
  {
   "cell_type": "code",
   "execution_count": 20,
   "metadata": {},
   "outputs": [
    {
     "name": "stdout",
     "output_type": "stream",
     "text": [
      "Index(['County Name', 'Median Home Price', 'Monthly Payment 2022',\n",
      "       'Monthly Payment 2021'],\n",
      "      dtype='object')\n",
      "                          County Name Median Home Price Monthly Payment 2022  \\\n",
      "count                             276               276                  276   \n",
      "unique                            276               273                  147   \n",
      "top     San Mateo County,  California          $404,850               $2,130   \n",
      "freq                                1                 2                    8   \n",
      "\n",
      "       Monthly Payment 2021  \n",
      "count                   276  \n",
      "unique                  122  \n",
      "top                  $1,330  \n",
      "freq                      8  \n"
     ]
    },
    {
     "data": {
      "application/vnd.plotly.v1+json": {
       "config": {
        "plotlyServerURL": "https://plot.ly"
       },
       "data": [
        {
         "hovertemplate": "Monthly Payment 2022=%{x}<br>Monthly Payment 2021=%{y}<extra></extra>",
         "legendgroup": "",
         "marker": {
          "color": "#636efa",
          "symbol": "circle"
         },
         "mode": "markers",
         "name": "",
         "orientation": "v",
         "showlegend": false,
         "type": "scatter",
         "x": [
          "$8,160",
          "$7,600",
          "$7,560",
          "$7,550",
          "$7,480",
          "$5,920",
          "$5,710",
          "$5,550",
          "$5,400",
          "$5,290",
          "$5,000",
          "$4,950",
          "$4,770",
          "$4,650",
          "$4,550",
          "$4,530",
          "$4,510",
          "$4,440",
          "$4,410",
          "$4,400",
          "$4,390",
          "$4,370",
          "$4,340",
          "$4,290",
          "$4,230",
          "$4,130",
          "$4,100",
          "$4,080",
          "$4,060",
          "$4,030",
          "$4,010",
          "$3,980",
          "$3,980",
          "$3,980",
          "$3,890",
          "$3,810",
          "$3,740",
          "$3,720",
          "$3,710",
          "$3,690",
          "$3,680",
          "$3,680",
          "$3,640",
          "$3,600",
          "$3,590",
          "$3,590",
          "$3,550",
          "$3,540",
          "$3,520",
          "$3,510",
          "$3,480",
          "$3,470",
          "$3,400",
          "$3,400",
          "$3,390",
          "$3,310",
          "$3,280",
          "$3,260",
          "$3,220",
          "$3,220",
          "$3,180",
          "$3,170",
          "$3,170",
          "$3,140",
          "$3,090",
          "$3,070",
          "$3,060",
          "$3,050",
          "$3,040",
          "$3,020",
          "$3,010",
          "$3,010",
          "$2,990",
          "$2,980",
          "$2,950",
          "$2,950",
          "$2,900",
          "$2,890",
          "$2,880",
          "$2,880",
          "$2,850",
          "$2,840",
          "$2,830",
          "$2,820",
          "$2,810",
          "$2,800",
          "$2,800",
          "$2,790",
          "$2,780",
          "$2,780",
          "$2,770",
          "$2,770",
          "$2,750",
          "$2,750",
          "$2,740",
          "$2,730",
          "$2,730",
          "$2,730",
          "$2,710",
          "$2,710",
          "$2,700",
          "$2,700",
          "$2,690",
          "$2,680",
          "$2,670",
          "$2,670",
          "$2,670",
          "$2,670",
          "$2,660",
          "$2,660",
          "$2,640",
          "$2,640",
          "$2,640",
          "$2,630",
          "$2,630",
          "$2,620",
          "$2,620",
          "$2,600",
          "$2,600",
          "$2,600",
          "$2,590",
          "$2,590",
          "$2,580",
          "$2,580",
          "$2,560",
          "$2,540",
          "$2,510",
          "$2,510",
          "$2,500",
          "$2,500",
          "$2,490",
          "$2,490",
          "$2,490",
          "$2,470",
          "$2,460",
          "$2,460",
          "$2,450",
          "$2,430",
          "$2,430",
          "$2,420",
          "$2,420",
          "$2,410",
          "$2,410",
          "$2,410",
          "$2,410",
          "$2,400",
          "$2,390",
          "$2,380",
          "$2,380",
          "$2,380",
          "$2,370",
          "$2,370",
          "$2,360",
          "$2,360",
          "$2,350",
          "$2,350",
          "$2,340",
          "$2,340",
          "$2,330",
          "$2,330",
          "$2,330",
          "$2,330",
          "$2,320",
          "$2,320",
          "$2,310",
          "$2,310",
          "$2,300",
          "$2,300",
          "$2,290",
          "$2,290",
          "$2,280",
          "$2,280",
          "$2,280",
          "$2,280",
          "$2,280",
          "$2,280",
          "$2,280",
          "$2,270",
          "$2,270",
          "$2,260",
          "$2,250",
          "$2,250",
          "$2,240",
          "$2,240",
          "$2,240",
          "$2,240",
          "$2,230",
          "$2,230",
          "$2,230",
          "$2,220",
          "$2,220",
          "$2,220",
          "$2,220",
          "$2,210",
          "$2,210",
          "$2,200",
          "$2,200",
          "$2,190",
          "$2,180",
          "$2,180",
          "$2,180",
          "$2,180",
          "$2,170",
          "$2,170",
          "$2,160",
          "$2,160",
          "$2,160",
          "$2,160",
          "$2,150",
          "$2,150",
          "$2,150",
          "$2,150",
          "$2,140",
          "$2,140",
          "$2,140",
          "$2,130",
          "$2,130",
          "$2,130",
          "$2,130",
          "$2,130",
          "$2,130",
          "$2,130",
          "$2,130",
          "$2,120",
          "$2,120",
          "$2,120",
          "$2,120",
          "$2,110",
          "$2,110",
          "$2,100",
          "$2,100",
          "$2,100",
          "$2,100",
          "$2,090",
          "$2,090",
          "$2,090",
          "$2,080",
          "$2,080",
          "$2,070",
          "$2,070",
          "$2,070",
          "$2,070",
          "$2,070",
          "$2,060",
          "$2,060",
          "$2,060",
          "$2,060",
          "$2,050",
          "$2,050",
          "$2,050",
          "$2,050",
          "$2,050",
          "$2,050",
          "$2,040",
          "$2,040",
          "$2,040",
          "$2,040",
          "$2,040",
          "$2,030",
          "$2,030",
          "$2,030",
          "$2,020",
          "$2,020",
          "$2,020",
          "$2,010",
          "$2,010",
          "$2,010",
          "$2,010",
          "$2,010",
          "$2,000",
          "$2,000",
          "$2,000",
          "$2,000",
          "$1,990",
          "$1,990",
          "$1,990"
         ],
         "xaxis": "x",
         "y": [
          "$5,270",
          "$4,900",
          "$4,740",
          "$4,870",
          "$4,040",
          "$3,200",
          "$3,530",
          "$3,590",
          "$3,510",
          "$3,440",
          "$2,920",
          "$3,110",
          "$3,130",
          "$2,780",
          "$2,960",
          "$2,730",
          "$2,910",
          "$2,910",
          "$2,800",
          "$2,740",
          "$2,800",
          "$2,690",
          "$2,590",
          "$2,690",
          "$2,470",
          "$2,680",
          "$2,600",
          "$2,580",
          "$2,540",
          "$2,550",
          "$2,300",
          "$2,400",
          "$2,500",
          "$2,390",
          "$2,440",
          "$2,500",
          "$2,390",
          "$2,380",
          "$2,350",
          "$2,420",
          "$2,410",
          "$2,400",
          "$2,180",
          "$2,290",
          "$2,350",
          "$2,340",
          "$2,310",
          "$2,130",
          "$2,250",
          "$2,140",
          "$2,270",
          "$2,260",
          "$2,210",
          "$2,230",
          "$2,150",
          "$2,150",
          "$1,970",
          "$2,140",
          "$2,050",
          "$2,030",
          "$2,020",
          "$1,890",
          "$2,010",
          "$2,050",
          "$1,980",
          "$1,870",
          "$2,000",
          "$1,990",
          "$2,030",
          "$1,830",
          "$1,890",
          "$1,980",
          "$1,880",
          "$1,790",
          "$1,760",
          "$1,820",
          "$1,890",
          "$1,880",
          "$1,880",
          "$1,760",
          "$1,860",
          "$1,740",
          "$1,800",
          "$1,660",
          "$1,760",
          "$1,750",
          "$1,820",
          "$1 ,720",
          "$1,820",
          "$1 ,770",
          "$1,760",
          "$1,660",
          "$1,680",
          "$1,760",
          "$1 ,650",
          "$1,790",
          "$1,690",
          "$1,730",
          "$1,550",
          "$1 ,630",
          "$1,680",
          "$1,760",
          "$1 ,650",
          "$1,750",
          "$1,610",
          "$1,660",
          "$1,740",
          "$1,740",
          "$1 ,630",
          "$1,730",
          "$1,710",
          "$1,710",
          "$1 ,720",
          "$1,660",
          "$1 ,630",
          "$1,500",
          "$1,660",
          "$1,710",
          "$1,690",
          "$1,640",
          "$1,690",
          "$1,690",
          "$1,550",
          "$1,600",
          "$1,620",
          "$1,490",
          "$1,470",
          "$1,440",
          "$1,550",
          "$1,580",
          "$1 ,590",
          "$1,460",
          "$1 ,630",
          "$1,450",
          "$1,540",
          "$1,510",
          "$1,410",
          "$1,470",
          "$1,430",
          "$1,400",
          "$1,540",
          "$1,500",
          "$1,570",
          "$1,570",
          "$1,440",
          "$1,470",
          "$1,450",
          "$1,430",
          "$1 ,560",
          "$1,550",
          "$1,570",
          "$1 ,360",
          "$1,450",
          "$1,480",
          "$1,440",
          "$1,350",
          "$1,540",
          "$1 ,360",
          "$1,450",
          "$1,410",
          "$1,480",
          "$1,400",
          "$1 ,390",
          "$1,460",
          "$1,500",
          "$1,350",
          "$1,350",
          "$1,320",
          "$1,420",
          "$1,380",
          "$1,370",
          "$1,490",
          "$1,340",
          "$1,370",
          "$1,310",
          "$1,490",
          "$1,480",
          "$1,250",
          "$1,450",
          "$1,480",
          "$1,320",
          "$1,410",
          "$1,460",
          "$1,400",
          "$1,290",
          "$1 ,360",
          "$1,470",
          "$1 ,390",
          "$1,350",
          "$1,460",
          "$1,260",
          "$1,330",
          "$1,410",
          "$1,330",
          "$1,350",
          "$1,350",
          "$1,320",
          "$1,350",
          "$1,370",
          "$1,260",
          "$1,430",
          "$1,280",
          "$1,410",
          "$1,430",
          "$1,320",
          "$1,420",
          "$1,410",
          "$1,250",
          "$1,350",
          "$1,400",
          "$1,300",
          "$1 ,360",
          "$1,230",
          "$1 ,270",
          "$1,330",
          "$1,330",
          "$1 ,360",
          "$1,330",
          "$1 ,360",
          "$1,380",
          "$1,170",
          "$1,400",
          "$1,340",
          "$1,340",
          "$1,310",
          "$1,240",
          "$1,220",
          "$1,380",
          "$1 ,390",
          "$1,260",
          "$1,290",
          "$1,340",
          "$1,280",
          "$1,370",
          "$1,230",
          "$1 ,360",
          "$1,330",
          "$1,380",
          "$1,260",
          "$1 ,360",
          "$1,200",
          "$1,290",
          "$1,190",
          "$1,210",
          "$1,180",
          "$1,260",
          "$1,380",
          "$1,200",
          "$1,230",
          "$1,180",
          "$1,230",
          "$1 ,270",
          "$1,310",
          "$1,280",
          "$1,320",
          "$1 ,270",
          "$1,290",
          "$1,330",
          "$1,330",
          "$1,250",
          "$1,250",
          "$1,230",
          "$1,260",
          "$1,230",
          "$1,260",
          "$1 ,270",
          "$1,210",
          "$1,250",
          "$1,300",
          "$1,240",
          "$1,280",
          "$1,280",
          "$1,200",
          "$1,300",
          "$1,140",
          "$1,240"
         ],
         "yaxis": "y"
        }
       ],
       "layout": {
        "legend": {
         "tracegroupgap": 0
        },
        "margin": {
         "t": 60
        },
        "template": {
         "data": {
          "bar": [
           {
            "error_x": {
             "color": "#2a3f5f"
            },
            "error_y": {
             "color": "#2a3f5f"
            },
            "marker": {
             "line": {
              "color": "#E5ECF6",
              "width": 0.5
             },
             "pattern": {
              "fillmode": "overlay",
              "size": 10,
              "solidity": 0.2
             }
            },
            "type": "bar"
           }
          ],
          "barpolar": [
           {
            "marker": {
             "line": {
              "color": "#E5ECF6",
              "width": 0.5
             },
             "pattern": {
              "fillmode": "overlay",
              "size": 10,
              "solidity": 0.2
             }
            },
            "type": "barpolar"
           }
          ],
          "carpet": [
           {
            "aaxis": {
             "endlinecolor": "#2a3f5f",
             "gridcolor": "white",
             "linecolor": "white",
             "minorgridcolor": "white",
             "startlinecolor": "#2a3f5f"
            },
            "baxis": {
             "endlinecolor": "#2a3f5f",
             "gridcolor": "white",
             "linecolor": "white",
             "minorgridcolor": "white",
             "startlinecolor": "#2a3f5f"
            },
            "type": "carpet"
           }
          ],
          "choropleth": [
           {
            "colorbar": {
             "outlinewidth": 0,
             "ticks": ""
            },
            "type": "choropleth"
           }
          ],
          "contour": [
           {
            "colorbar": {
             "outlinewidth": 0,
             "ticks": ""
            },
            "colorscale": [
             [
              0,
              "#0d0887"
             ],
             [
              0.1111111111111111,
              "#46039f"
             ],
             [
              0.2222222222222222,
              "#7201a8"
             ],
             [
              0.3333333333333333,
              "#9c179e"
             ],
             [
              0.4444444444444444,
              "#bd3786"
             ],
             [
              0.5555555555555556,
              "#d8576b"
             ],
             [
              0.6666666666666666,
              "#ed7953"
             ],
             [
              0.7777777777777778,
              "#fb9f3a"
             ],
             [
              0.8888888888888888,
              "#fdca26"
             ],
             [
              1,
              "#f0f921"
             ]
            ],
            "type": "contour"
           }
          ],
          "contourcarpet": [
           {
            "colorbar": {
             "outlinewidth": 0,
             "ticks": ""
            },
            "type": "contourcarpet"
           }
          ],
          "heatmap": [
           {
            "colorbar": {
             "outlinewidth": 0,
             "ticks": ""
            },
            "colorscale": [
             [
              0,
              "#0d0887"
             ],
             [
              0.1111111111111111,
              "#46039f"
             ],
             [
              0.2222222222222222,
              "#7201a8"
             ],
             [
              0.3333333333333333,
              "#9c179e"
             ],
             [
              0.4444444444444444,
              "#bd3786"
             ],
             [
              0.5555555555555556,
              "#d8576b"
             ],
             [
              0.6666666666666666,
              "#ed7953"
             ],
             [
              0.7777777777777778,
              "#fb9f3a"
             ],
             [
              0.8888888888888888,
              "#fdca26"
             ],
             [
              1,
              "#f0f921"
             ]
            ],
            "type": "heatmap"
           }
          ],
          "heatmapgl": [
           {
            "colorbar": {
             "outlinewidth": 0,
             "ticks": ""
            },
            "colorscale": [
             [
              0,
              "#0d0887"
             ],
             [
              0.1111111111111111,
              "#46039f"
             ],
             [
              0.2222222222222222,
              "#7201a8"
             ],
             [
              0.3333333333333333,
              "#9c179e"
             ],
             [
              0.4444444444444444,
              "#bd3786"
             ],
             [
              0.5555555555555556,
              "#d8576b"
             ],
             [
              0.6666666666666666,
              "#ed7953"
             ],
             [
              0.7777777777777778,
              "#fb9f3a"
             ],
             [
              0.8888888888888888,
              "#fdca26"
             ],
             [
              1,
              "#f0f921"
             ]
            ],
            "type": "heatmapgl"
           }
          ],
          "histogram": [
           {
            "marker": {
             "pattern": {
              "fillmode": "overlay",
              "size": 10,
              "solidity": 0.2
             }
            },
            "type": "histogram"
           }
          ],
          "histogram2d": [
           {
            "colorbar": {
             "outlinewidth": 0,
             "ticks": ""
            },
            "colorscale": [
             [
              0,
              "#0d0887"
             ],
             [
              0.1111111111111111,
              "#46039f"
             ],
             [
              0.2222222222222222,
              "#7201a8"
             ],
             [
              0.3333333333333333,
              "#9c179e"
             ],
             [
              0.4444444444444444,
              "#bd3786"
             ],
             [
              0.5555555555555556,
              "#d8576b"
             ],
             [
              0.6666666666666666,
              "#ed7953"
             ],
             [
              0.7777777777777778,
              "#fb9f3a"
             ],
             [
              0.8888888888888888,
              "#fdca26"
             ],
             [
              1,
              "#f0f921"
             ]
            ],
            "type": "histogram2d"
           }
          ],
          "histogram2dcontour": [
           {
            "colorbar": {
             "outlinewidth": 0,
             "ticks": ""
            },
            "colorscale": [
             [
              0,
              "#0d0887"
             ],
             [
              0.1111111111111111,
              "#46039f"
             ],
             [
              0.2222222222222222,
              "#7201a8"
             ],
             [
              0.3333333333333333,
              "#9c179e"
             ],
             [
              0.4444444444444444,
              "#bd3786"
             ],
             [
              0.5555555555555556,
              "#d8576b"
             ],
             [
              0.6666666666666666,
              "#ed7953"
             ],
             [
              0.7777777777777778,
              "#fb9f3a"
             ],
             [
              0.8888888888888888,
              "#fdca26"
             ],
             [
              1,
              "#f0f921"
             ]
            ],
            "type": "histogram2dcontour"
           }
          ],
          "mesh3d": [
           {
            "colorbar": {
             "outlinewidth": 0,
             "ticks": ""
            },
            "type": "mesh3d"
           }
          ],
          "parcoords": [
           {
            "line": {
             "colorbar": {
              "outlinewidth": 0,
              "ticks": ""
             }
            },
            "type": "parcoords"
           }
          ],
          "pie": [
           {
            "automargin": true,
            "type": "pie"
           }
          ],
          "scatter": [
           {
            "fillpattern": {
             "fillmode": "overlay",
             "size": 10,
             "solidity": 0.2
            },
            "type": "scatter"
           }
          ],
          "scatter3d": [
           {
            "line": {
             "colorbar": {
              "outlinewidth": 0,
              "ticks": ""
             }
            },
            "marker": {
             "colorbar": {
              "outlinewidth": 0,
              "ticks": ""
             }
            },
            "type": "scatter3d"
           }
          ],
          "scattercarpet": [
           {
            "marker": {
             "colorbar": {
              "outlinewidth": 0,
              "ticks": ""
             }
            },
            "type": "scattercarpet"
           }
          ],
          "scattergeo": [
           {
            "marker": {
             "colorbar": {
              "outlinewidth": 0,
              "ticks": ""
             }
            },
            "type": "scattergeo"
           }
          ],
          "scattergl": [
           {
            "marker": {
             "colorbar": {
              "outlinewidth": 0,
              "ticks": ""
             }
            },
            "type": "scattergl"
           }
          ],
          "scattermapbox": [
           {
            "marker": {
             "colorbar": {
              "outlinewidth": 0,
              "ticks": ""
             }
            },
            "type": "scattermapbox"
           }
          ],
          "scatterpolar": [
           {
            "marker": {
             "colorbar": {
              "outlinewidth": 0,
              "ticks": ""
             }
            },
            "type": "scatterpolar"
           }
          ],
          "scatterpolargl": [
           {
            "marker": {
             "colorbar": {
              "outlinewidth": 0,
              "ticks": ""
             }
            },
            "type": "scatterpolargl"
           }
          ],
          "scatterternary": [
           {
            "marker": {
             "colorbar": {
              "outlinewidth": 0,
              "ticks": ""
             }
            },
            "type": "scatterternary"
           }
          ],
          "surface": [
           {
            "colorbar": {
             "outlinewidth": 0,
             "ticks": ""
            },
            "colorscale": [
             [
              0,
              "#0d0887"
             ],
             [
              0.1111111111111111,
              "#46039f"
             ],
             [
              0.2222222222222222,
              "#7201a8"
             ],
             [
              0.3333333333333333,
              "#9c179e"
             ],
             [
              0.4444444444444444,
              "#bd3786"
             ],
             [
              0.5555555555555556,
              "#d8576b"
             ],
             [
              0.6666666666666666,
              "#ed7953"
             ],
             [
              0.7777777777777778,
              "#fb9f3a"
             ],
             [
              0.8888888888888888,
              "#fdca26"
             ],
             [
              1,
              "#f0f921"
             ]
            ],
            "type": "surface"
           }
          ],
          "table": [
           {
            "cells": {
             "fill": {
              "color": "#EBF0F8"
             },
             "line": {
              "color": "white"
             }
            },
            "header": {
             "fill": {
              "color": "#C8D4E3"
             },
             "line": {
              "color": "white"
             }
            },
            "type": "table"
           }
          ]
         },
         "layout": {
          "annotationdefaults": {
           "arrowcolor": "#2a3f5f",
           "arrowhead": 0,
           "arrowwidth": 1
          },
          "autotypenumbers": "strict",
          "coloraxis": {
           "colorbar": {
            "outlinewidth": 0,
            "ticks": ""
           }
          },
          "colorscale": {
           "diverging": [
            [
             0,
             "#8e0152"
            ],
            [
             0.1,
             "#c51b7d"
            ],
            [
             0.2,
             "#de77ae"
            ],
            [
             0.3,
             "#f1b6da"
            ],
            [
             0.4,
             "#fde0ef"
            ],
            [
             0.5,
             "#f7f7f7"
            ],
            [
             0.6,
             "#e6f5d0"
            ],
            [
             0.7,
             "#b8e186"
            ],
            [
             0.8,
             "#7fbc41"
            ],
            [
             0.9,
             "#4d9221"
            ],
            [
             1,
             "#276419"
            ]
           ],
           "sequential": [
            [
             0,
             "#0d0887"
            ],
            [
             0.1111111111111111,
             "#46039f"
            ],
            [
             0.2222222222222222,
             "#7201a8"
            ],
            [
             0.3333333333333333,
             "#9c179e"
            ],
            [
             0.4444444444444444,
             "#bd3786"
            ],
            [
             0.5555555555555556,
             "#d8576b"
            ],
            [
             0.6666666666666666,
             "#ed7953"
            ],
            [
             0.7777777777777778,
             "#fb9f3a"
            ],
            [
             0.8888888888888888,
             "#fdca26"
            ],
            [
             1,
             "#f0f921"
            ]
           ],
           "sequentialminus": [
            [
             0,
             "#0d0887"
            ],
            [
             0.1111111111111111,
             "#46039f"
            ],
            [
             0.2222222222222222,
             "#7201a8"
            ],
            [
             0.3333333333333333,
             "#9c179e"
            ],
            [
             0.4444444444444444,
             "#bd3786"
            ],
            [
             0.5555555555555556,
             "#d8576b"
            ],
            [
             0.6666666666666666,
             "#ed7953"
            ],
            [
             0.7777777777777778,
             "#fb9f3a"
            ],
            [
             0.8888888888888888,
             "#fdca26"
            ],
            [
             1,
             "#f0f921"
            ]
           ]
          },
          "colorway": [
           "#636efa",
           "#EF553B",
           "#00cc96",
           "#ab63fa",
           "#FFA15A",
           "#19d3f3",
           "#FF6692",
           "#B6E880",
           "#FF97FF",
           "#FECB52"
          ],
          "font": {
           "color": "#2a3f5f"
          },
          "geo": {
           "bgcolor": "white",
           "lakecolor": "white",
           "landcolor": "#E5ECF6",
           "showlakes": true,
           "showland": true,
           "subunitcolor": "white"
          },
          "hoverlabel": {
           "align": "left"
          },
          "hovermode": "closest",
          "mapbox": {
           "style": "light"
          },
          "paper_bgcolor": "white",
          "plot_bgcolor": "#E5ECF6",
          "polar": {
           "angularaxis": {
            "gridcolor": "white",
            "linecolor": "white",
            "ticks": ""
           },
           "bgcolor": "#E5ECF6",
           "radialaxis": {
            "gridcolor": "white",
            "linecolor": "white",
            "ticks": ""
           }
          },
          "scene": {
           "xaxis": {
            "backgroundcolor": "#E5ECF6",
            "gridcolor": "white",
            "gridwidth": 2,
            "linecolor": "white",
            "showbackground": true,
            "ticks": "",
            "zerolinecolor": "white"
           },
           "yaxis": {
            "backgroundcolor": "#E5ECF6",
            "gridcolor": "white",
            "gridwidth": 2,
            "linecolor": "white",
            "showbackground": true,
            "ticks": "",
            "zerolinecolor": "white"
           },
           "zaxis": {
            "backgroundcolor": "#E5ECF6",
            "gridcolor": "white",
            "gridwidth": 2,
            "linecolor": "white",
            "showbackground": true,
            "ticks": "",
            "zerolinecolor": "white"
           }
          },
          "shapedefaults": {
           "line": {
            "color": "#2a3f5f"
           }
          },
          "ternary": {
           "aaxis": {
            "gridcolor": "white",
            "linecolor": "white",
            "ticks": ""
           },
           "baxis": {
            "gridcolor": "white",
            "linecolor": "white",
            "ticks": ""
           },
           "bgcolor": "#E5ECF6",
           "caxis": {
            "gridcolor": "white",
            "linecolor": "white",
            "ticks": ""
           }
          },
          "title": {
           "x": 0.05
          },
          "xaxis": {
           "automargin": true,
           "gridcolor": "white",
           "linecolor": "white",
           "ticks": "",
           "title": {
            "standoff": 15
           },
           "zerolinecolor": "white",
           "zerolinewidth": 2
          },
          "yaxis": {
           "automargin": true,
           "gridcolor": "white",
           "linecolor": "white",
           "ticks": "",
           "title": {
            "standoff": 15
           },
           "zerolinecolor": "white",
           "zerolinewidth": 2
          }
         }
        },
        "xaxis": {
         "anchor": "y",
         "domain": [
          0,
          1
         ],
         "title": {
          "text": "Monthly Payment 2022"
         }
        },
        "yaxis": {
         "anchor": "x",
         "domain": [
          0,
          1
         ],
         "title": {
          "text": "Monthly Payment 2021"
         }
        }
       }
      },
      "text/html": [
       "<div>                            <div id=\"3c38928b-1d68-4f8c-894e-80a30c01cab7\" class=\"plotly-graph-div\" style=\"height:525px; width:100%;\"></div>            <script type=\"text/javascript\">                require([\"plotly\"], function(Plotly) {                    window.PLOTLYENV=window.PLOTLYENV || {};                                    if (document.getElementById(\"3c38928b-1d68-4f8c-894e-80a30c01cab7\")) {                    Plotly.newPlot(                        \"3c38928b-1d68-4f8c-894e-80a30c01cab7\",                        [{\"hovertemplate\":\"Monthly Payment 2022=%{x}<br>Monthly Payment 2021=%{y}<extra></extra>\",\"legendgroup\":\"\",\"marker\":{\"color\":\"#636efa\",\"symbol\":\"circle\"},\"mode\":\"markers\",\"name\":\"\",\"orientation\":\"v\",\"showlegend\":false,\"x\":[\"$8,160\",\"$7,600\",\"$7,560\",\"$7,550\",\"$7,480\",\"$5,920\",\"$5,710\",\"$5,550\",\"$5,400\",\"$5,290\",\"$5,000\",\"$4,950\",\"$4,770\",\"$4,650\",\"$4,550\",\"$4,530\",\"$4,510\",\"$4,440\",\"$4,410\",\"$4,400\",\"$4,390\",\"$4,370\",\"$4,340\",\"$4,290\",\"$4,230\",\"$4,130\",\"$4,100\",\"$4,080\",\"$4,060\",\"$4,030\",\"$4,010\",\"$3,980\",\"$3,980\",\"$3,980\",\"$3,890\",\"$3,810\",\"$3,740\",\"$3,720\",\"$3,710\",\"$3,690\",\"$3,680\",\"$3,680\",\"$3,640\",\"$3,600\",\"$3,590\",\"$3,590\",\"$3,550\",\"$3,540\",\"$3,520\",\"$3,510\",\"$3,480\",\"$3,470\",\"$3,400\",\"$3,400\",\"$3,390\",\"$3,310\",\"$3,280\",\"$3,260\",\"$3,220\",\"$3,220\",\"$3,180\",\"$3,170\",\"$3,170\",\"$3,140\",\"$3,090\",\"$3,070\",\"$3,060\",\"$3,050\",\"$3,040\",\"$3,020\",\"$3,010\",\"$3,010\",\"$2,990\",\"$2,980\",\"$2,950\",\"$2,950\",\"$2,900\",\"$2,890\",\"$2,880\",\"$2,880\",\"$2,850\",\"$2,840\",\"$2,830\",\"$2,820\",\"$2,810\",\"$2,800\",\"$2,800\",\"$2,790\",\"$2,780\",\"$2,780\",\"$2,770\",\"$2,770\",\"$2,750\",\"$2,750\",\"$2,740\",\"$2,730\",\"$2,730\",\"$2,730\",\"$2,710\",\"$2,710\",\"$2,700\",\"$2,700\",\"$2,690\",\"$2,680\",\"$2,670\",\"$2,670\",\"$2,670\",\"$2,670\",\"$2,660\",\"$2,660\",\"$2,640\",\"$2,640\",\"$2,640\",\"$2,630\",\"$2,630\",\"$2,620\",\"$2,620\",\"$2,600\",\"$2,600\",\"$2,600\",\"$2,590\",\"$2,590\",\"$2,580\",\"$2,580\",\"$2,560\",\"$2,540\",\"$2,510\",\"$2,510\",\"$2,500\",\"$2,500\",\"$2,490\",\"$2,490\",\"$2,490\",\"$2,470\",\"$2,460\",\"$2,460\",\"$2,450\",\"$2,430\",\"$2,430\",\"$2,420\",\"$2,420\",\"$2,410\",\"$2,410\",\"$2,410\",\"$2,410\",\"$2,400\",\"$2,390\",\"$2,380\",\"$2,380\",\"$2,380\",\"$2,370\",\"$2,370\",\"$2,360\",\"$2,360\",\"$2,350\",\"$2,350\",\"$2,340\",\"$2,340\",\"$2,330\",\"$2,330\",\"$2,330\",\"$2,330\",\"$2,320\",\"$2,320\",\"$2,310\",\"$2,310\",\"$2,300\",\"$2,300\",\"$2,290\",\"$2,290\",\"$2,280\",\"$2,280\",\"$2,280\",\"$2,280\",\"$2,280\",\"$2,280\",\"$2,280\",\"$2,270\",\"$2,270\",\"$2,260\",\"$2,250\",\"$2,250\",\"$2,240\",\"$2,240\",\"$2,240\",\"$2,240\",\"$2,230\",\"$2,230\",\"$2,230\",\"$2,220\",\"$2,220\",\"$2,220\",\"$2,220\",\"$2,210\",\"$2,210\",\"$2,200\",\"$2,200\",\"$2,190\",\"$2,180\",\"$2,180\",\"$2,180\",\"$2,180\",\"$2,170\",\"$2,170\",\"$2,160\",\"$2,160\",\"$2,160\",\"$2,160\",\"$2,150\",\"$2,150\",\"$2,150\",\"$2,150\",\"$2,140\",\"$2,140\",\"$2,140\",\"$2,130\",\"$2,130\",\"$2,130\",\"$2,130\",\"$2,130\",\"$2,130\",\"$2,130\",\"$2,130\",\"$2,120\",\"$2,120\",\"$2,120\",\"$2,120\",\"$2,110\",\"$2,110\",\"$2,100\",\"$2,100\",\"$2,100\",\"$2,100\",\"$2,090\",\"$2,090\",\"$2,090\",\"$2,080\",\"$2,080\",\"$2,070\",\"$2,070\",\"$2,070\",\"$2,070\",\"$2,070\",\"$2,060\",\"$2,060\",\"$2,060\",\"$2,060\",\"$2,050\",\"$2,050\",\"$2,050\",\"$2,050\",\"$2,050\",\"$2,050\",\"$2,040\",\"$2,040\",\"$2,040\",\"$2,040\",\"$2,040\",\"$2,030\",\"$2,030\",\"$2,030\",\"$2,020\",\"$2,020\",\"$2,020\",\"$2,010\",\"$2,010\",\"$2,010\",\"$2,010\",\"$2,010\",\"$2,000\",\"$2,000\",\"$2,000\",\"$2,000\",\"$1,990\",\"$1,990\",\"$1,990\"],\"xaxis\":\"x\",\"y\":[\"$5,270\",\"$4,900\",\"$4,740\",\"$4,870\",\"$4,040\",\"$3,200\",\"$3,530\",\"$3,590\",\"$3,510\",\"$3,440\",\"$2,920\",\"$3,110\",\"$3,130\",\"$2,780\",\"$2,960\",\"$2,730\",\"$2,910\",\"$2,910\",\"$2,800\",\"$2,740\",\"$2,800\",\"$2,690\",\"$2,590\",\"$2,690\",\"$2,470\",\"$2,680\",\"$2,600\",\"$2,580\",\"$2,540\",\"$2,550\",\"$2,300\",\"$2,400\",\"$2,500\",\"$2,390\",\"$2,440\",\"$2,500\",\"$2,390\",\"$2,380\",\"$2,350\",\"$2,420\",\"$2,410\",\"$2,400\",\"$2,180\",\"$2,290\",\"$2,350\",\"$2,340\",\"$2,310\",\"$2,130\",\"$2,250\",\"$2,140\",\"$2,270\",\"$2,260\",\"$2,210\",\"$2,230\",\"$2,150\",\"$2,150\",\"$1,970\",\"$2,140\",\"$2,050\",\"$2,030\",\"$2,020\",\"$1,890\",\"$2,010\",\"$2,050\",\"$1,980\",\"$1,870\",\"$2,000\",\"$1,990\",\"$2,030\",\"$1,830\",\"$1,890\",\"$1,980\",\"$1,880\",\"$1,790\",\"$1,760\",\"$1,820\",\"$1,890\",\"$1,880\",\"$1,880\",\"$1,760\",\"$1,860\",\"$1,740\",\"$1,800\",\"$1,660\",\"$1,760\",\"$1,750\",\"$1,820\",\"$1 ,720\",\"$1,820\",\"$1 ,770\",\"$1,760\",\"$1,660\",\"$1,680\",\"$1,760\",\"$1 ,650\",\"$1,790\",\"$1,690\",\"$1,730\",\"$1,550\",\"$1 ,630\",\"$1,680\",\"$1,760\",\"$1 ,650\",\"$1,750\",\"$1,610\",\"$1,660\",\"$1,740\",\"$1,740\",\"$1 ,630\",\"$1,730\",\"$1,710\",\"$1,710\",\"$1 ,720\",\"$1,660\",\"$1 ,630\",\"$1,500\",\"$1,660\",\"$1,710\",\"$1,690\",\"$1,640\",\"$1,690\",\"$1,690\",\"$1,550\",\"$1,600\",\"$1,620\",\"$1,490\",\"$1,470\",\"$1,440\",\"$1,550\",\"$1,580\",\"$1 ,590\",\"$1,460\",\"$1 ,630\",\"$1,450\",\"$1,540\",\"$1,510\",\"$1,410\",\"$1,470\",\"$1,430\",\"$1,400\",\"$1,540\",\"$1,500\",\"$1,570\",\"$1,570\",\"$1,440\",\"$1,470\",\"$1,450\",\"$1,430\",\"$1 ,560\",\"$1,550\",\"$1,570\",\"$1 ,360\",\"$1,450\",\"$1,480\",\"$1,440\",\"$1,350\",\"$1,540\",\"$1 ,360\",\"$1,450\",\"$1,410\",\"$1,480\",\"$1,400\",\"$1 ,390\",\"$1,460\",\"$1,500\",\"$1,350\",\"$1,350\",\"$1,320\",\"$1,420\",\"$1,380\",\"$1,370\",\"$1,490\",\"$1,340\",\"$1,370\",\"$1,310\",\"$1,490\",\"$1,480\",\"$1,250\",\"$1,450\",\"$1,480\",\"$1,320\",\"$1,410\",\"$1,460\",\"$1,400\",\"$1,290\",\"$1 ,360\",\"$1,470\",\"$1 ,390\",\"$1,350\",\"$1,460\",\"$1,260\",\"$1,330\",\"$1,410\",\"$1,330\",\"$1,350\",\"$1,350\",\"$1,320\",\"$1,350\",\"$1,370\",\"$1,260\",\"$1,430\",\"$1,280\",\"$1,410\",\"$1,430\",\"$1,320\",\"$1,420\",\"$1,410\",\"$1,250\",\"$1,350\",\"$1,400\",\"$1,300\",\"$1 ,360\",\"$1,230\",\"$1 ,270\",\"$1,330\",\"$1,330\",\"$1 ,360\",\"$1,330\",\"$1 ,360\",\"$1,380\",\"$1,170\",\"$1,400\",\"$1,340\",\"$1,340\",\"$1,310\",\"$1,240\",\"$1,220\",\"$1,380\",\"$1 ,390\",\"$1,260\",\"$1,290\",\"$1,340\",\"$1,280\",\"$1,370\",\"$1,230\",\"$1 ,360\",\"$1,330\",\"$1,380\",\"$1,260\",\"$1 ,360\",\"$1,200\",\"$1,290\",\"$1,190\",\"$1,210\",\"$1,180\",\"$1,260\",\"$1,380\",\"$1,200\",\"$1,230\",\"$1,180\",\"$1,230\",\"$1 ,270\",\"$1,310\",\"$1,280\",\"$1,320\",\"$1 ,270\",\"$1,290\",\"$1,330\",\"$1,330\",\"$1,250\",\"$1,250\",\"$1,230\",\"$1,260\",\"$1,230\",\"$1,260\",\"$1 ,270\",\"$1,210\",\"$1,250\",\"$1,300\",\"$1,240\",\"$1,280\",\"$1,280\",\"$1,200\",\"$1,300\",\"$1,140\",\"$1,240\"],\"yaxis\":\"y\",\"type\":\"scatter\"}],                        {\"template\":{\"data\":{\"histogram2dcontour\":[{\"type\":\"histogram2dcontour\",\"colorbar\":{\"outlinewidth\":0,\"ticks\":\"\"},\"colorscale\":[[0.0,\"#0d0887\"],[0.1111111111111111,\"#46039f\"],[0.2222222222222222,\"#7201a8\"],[0.3333333333333333,\"#9c179e\"],[0.4444444444444444,\"#bd3786\"],[0.5555555555555556,\"#d8576b\"],[0.6666666666666666,\"#ed7953\"],[0.7777777777777778,\"#fb9f3a\"],[0.8888888888888888,\"#fdca26\"],[1.0,\"#f0f921\"]]}],\"choropleth\":[{\"type\":\"choropleth\",\"colorbar\":{\"outlinewidth\":0,\"ticks\":\"\"}}],\"histogram2d\":[{\"type\":\"histogram2d\",\"colorbar\":{\"outlinewidth\":0,\"ticks\":\"\"},\"colorscale\":[[0.0,\"#0d0887\"],[0.1111111111111111,\"#46039f\"],[0.2222222222222222,\"#7201a8\"],[0.3333333333333333,\"#9c179e\"],[0.4444444444444444,\"#bd3786\"],[0.5555555555555556,\"#d8576b\"],[0.6666666666666666,\"#ed7953\"],[0.7777777777777778,\"#fb9f3a\"],[0.8888888888888888,\"#fdca26\"],[1.0,\"#f0f921\"]]}],\"heatmap\":[{\"type\":\"heatmap\",\"colorbar\":{\"outlinewidth\":0,\"ticks\":\"\"},\"colorscale\":[[0.0,\"#0d0887\"],[0.1111111111111111,\"#46039f\"],[0.2222222222222222,\"#7201a8\"],[0.3333333333333333,\"#9c179e\"],[0.4444444444444444,\"#bd3786\"],[0.5555555555555556,\"#d8576b\"],[0.6666666666666666,\"#ed7953\"],[0.7777777777777778,\"#fb9f3a\"],[0.8888888888888888,\"#fdca26\"],[1.0,\"#f0f921\"]]}],\"heatmapgl\":[{\"type\":\"heatmapgl\",\"colorbar\":{\"outlinewidth\":0,\"ticks\":\"\"},\"colorscale\":[[0.0,\"#0d0887\"],[0.1111111111111111,\"#46039f\"],[0.2222222222222222,\"#7201a8\"],[0.3333333333333333,\"#9c179e\"],[0.4444444444444444,\"#bd3786\"],[0.5555555555555556,\"#d8576b\"],[0.6666666666666666,\"#ed7953\"],[0.7777777777777778,\"#fb9f3a\"],[0.8888888888888888,\"#fdca26\"],[1.0,\"#f0f921\"]]}],\"contourcarpet\":[{\"type\":\"contourcarpet\",\"colorbar\":{\"outlinewidth\":0,\"ticks\":\"\"}}],\"contour\":[{\"type\":\"contour\",\"colorbar\":{\"outlinewidth\":0,\"ticks\":\"\"},\"colorscale\":[[0.0,\"#0d0887\"],[0.1111111111111111,\"#46039f\"],[0.2222222222222222,\"#7201a8\"],[0.3333333333333333,\"#9c179e\"],[0.4444444444444444,\"#bd3786\"],[0.5555555555555556,\"#d8576b\"],[0.6666666666666666,\"#ed7953\"],[0.7777777777777778,\"#fb9f3a\"],[0.8888888888888888,\"#fdca26\"],[1.0,\"#f0f921\"]]}],\"surface\":[{\"type\":\"surface\",\"colorbar\":{\"outlinewidth\":0,\"ticks\":\"\"},\"colorscale\":[[0.0,\"#0d0887\"],[0.1111111111111111,\"#46039f\"],[0.2222222222222222,\"#7201a8\"],[0.3333333333333333,\"#9c179e\"],[0.4444444444444444,\"#bd3786\"],[0.5555555555555556,\"#d8576b\"],[0.6666666666666666,\"#ed7953\"],[0.7777777777777778,\"#fb9f3a\"],[0.8888888888888888,\"#fdca26\"],[1.0,\"#f0f921\"]]}],\"mesh3d\":[{\"type\":\"mesh3d\",\"colorbar\":{\"outlinewidth\":0,\"ticks\":\"\"}}],\"scatter\":[{\"fillpattern\":{\"fillmode\":\"overlay\",\"size\":10,\"solidity\":0.2},\"type\":\"scatter\"}],\"parcoords\":[{\"type\":\"parcoords\",\"line\":{\"colorbar\":{\"outlinewidth\":0,\"ticks\":\"\"}}}],\"scatterpolargl\":[{\"type\":\"scatterpolargl\",\"marker\":{\"colorbar\":{\"outlinewidth\":0,\"ticks\":\"\"}}}],\"bar\":[{\"error_x\":{\"color\":\"#2a3f5f\"},\"error_y\":{\"color\":\"#2a3f5f\"},\"marker\":{\"line\":{\"color\":\"#E5ECF6\",\"width\":0.5},\"pattern\":{\"fillmode\":\"overlay\",\"size\":10,\"solidity\":0.2}},\"type\":\"bar\"}],\"scattergeo\":[{\"type\":\"scattergeo\",\"marker\":{\"colorbar\":{\"outlinewidth\":0,\"ticks\":\"\"}}}],\"scatterpolar\":[{\"type\":\"scatterpolar\",\"marker\":{\"colorbar\":{\"outlinewidth\":0,\"ticks\":\"\"}}}],\"histogram\":[{\"marker\":{\"pattern\":{\"fillmode\":\"overlay\",\"size\":10,\"solidity\":0.2}},\"type\":\"histogram\"}],\"scattergl\":[{\"type\":\"scattergl\",\"marker\":{\"colorbar\":{\"outlinewidth\":0,\"ticks\":\"\"}}}],\"scatter3d\":[{\"type\":\"scatter3d\",\"line\":{\"colorbar\":{\"outlinewidth\":0,\"ticks\":\"\"}},\"marker\":{\"colorbar\":{\"outlinewidth\":0,\"ticks\":\"\"}}}],\"scattermapbox\":[{\"type\":\"scattermapbox\",\"marker\":{\"colorbar\":{\"outlinewidth\":0,\"ticks\":\"\"}}}],\"scatterternary\":[{\"type\":\"scatterternary\",\"marker\":{\"colorbar\":{\"outlinewidth\":0,\"ticks\":\"\"}}}],\"scattercarpet\":[{\"type\":\"scattercarpet\",\"marker\":{\"colorbar\":{\"outlinewidth\":0,\"ticks\":\"\"}}}],\"carpet\":[{\"aaxis\":{\"endlinecolor\":\"#2a3f5f\",\"gridcolor\":\"white\",\"linecolor\":\"white\",\"minorgridcolor\":\"white\",\"startlinecolor\":\"#2a3f5f\"},\"baxis\":{\"endlinecolor\":\"#2a3f5f\",\"gridcolor\":\"white\",\"linecolor\":\"white\",\"minorgridcolor\":\"white\",\"startlinecolor\":\"#2a3f5f\"},\"type\":\"carpet\"}],\"table\":[{\"cells\":{\"fill\":{\"color\":\"#EBF0F8\"},\"line\":{\"color\":\"white\"}},\"header\":{\"fill\":{\"color\":\"#C8D4E3\"},\"line\":{\"color\":\"white\"}},\"type\":\"table\"}],\"barpolar\":[{\"marker\":{\"line\":{\"color\":\"#E5ECF6\",\"width\":0.5},\"pattern\":{\"fillmode\":\"overlay\",\"size\":10,\"solidity\":0.2}},\"type\":\"barpolar\"}],\"pie\":[{\"automargin\":true,\"type\":\"pie\"}]},\"layout\":{\"autotypenumbers\":\"strict\",\"colorway\":[\"#636efa\",\"#EF553B\",\"#00cc96\",\"#ab63fa\",\"#FFA15A\",\"#19d3f3\",\"#FF6692\",\"#B6E880\",\"#FF97FF\",\"#FECB52\"],\"font\":{\"color\":\"#2a3f5f\"},\"hovermode\":\"closest\",\"hoverlabel\":{\"align\":\"left\"},\"paper_bgcolor\":\"white\",\"plot_bgcolor\":\"#E5ECF6\",\"polar\":{\"bgcolor\":\"#E5ECF6\",\"angularaxis\":{\"gridcolor\":\"white\",\"linecolor\":\"white\",\"ticks\":\"\"},\"radialaxis\":{\"gridcolor\":\"white\",\"linecolor\":\"white\",\"ticks\":\"\"}},\"ternary\":{\"bgcolor\":\"#E5ECF6\",\"aaxis\":{\"gridcolor\":\"white\",\"linecolor\":\"white\",\"ticks\":\"\"},\"baxis\":{\"gridcolor\":\"white\",\"linecolor\":\"white\",\"ticks\":\"\"},\"caxis\":{\"gridcolor\":\"white\",\"linecolor\":\"white\",\"ticks\":\"\"}},\"coloraxis\":{\"colorbar\":{\"outlinewidth\":0,\"ticks\":\"\"}},\"colorscale\":{\"sequential\":[[0.0,\"#0d0887\"],[0.1111111111111111,\"#46039f\"],[0.2222222222222222,\"#7201a8\"],[0.3333333333333333,\"#9c179e\"],[0.4444444444444444,\"#bd3786\"],[0.5555555555555556,\"#d8576b\"],[0.6666666666666666,\"#ed7953\"],[0.7777777777777778,\"#fb9f3a\"],[0.8888888888888888,\"#fdca26\"],[1.0,\"#f0f921\"]],\"sequentialminus\":[[0.0,\"#0d0887\"],[0.1111111111111111,\"#46039f\"],[0.2222222222222222,\"#7201a8\"],[0.3333333333333333,\"#9c179e\"],[0.4444444444444444,\"#bd3786\"],[0.5555555555555556,\"#d8576b\"],[0.6666666666666666,\"#ed7953\"],[0.7777777777777778,\"#fb9f3a\"],[0.8888888888888888,\"#fdca26\"],[1.0,\"#f0f921\"]],\"diverging\":[[0,\"#8e0152\"],[0.1,\"#c51b7d\"],[0.2,\"#de77ae\"],[0.3,\"#f1b6da\"],[0.4,\"#fde0ef\"],[0.5,\"#f7f7f7\"],[0.6,\"#e6f5d0\"],[0.7,\"#b8e186\"],[0.8,\"#7fbc41\"],[0.9,\"#4d9221\"],[1,\"#276419\"]]},\"xaxis\":{\"gridcolor\":\"white\",\"linecolor\":\"white\",\"ticks\":\"\",\"title\":{\"standoff\":15},\"zerolinecolor\":\"white\",\"automargin\":true,\"zerolinewidth\":2},\"yaxis\":{\"gridcolor\":\"white\",\"linecolor\":\"white\",\"ticks\":\"\",\"title\":{\"standoff\":15},\"zerolinecolor\":\"white\",\"automargin\":true,\"zerolinewidth\":2},\"scene\":{\"xaxis\":{\"backgroundcolor\":\"#E5ECF6\",\"gridcolor\":\"white\",\"linecolor\":\"white\",\"showbackground\":true,\"ticks\":\"\",\"zerolinecolor\":\"white\",\"gridwidth\":2},\"yaxis\":{\"backgroundcolor\":\"#E5ECF6\",\"gridcolor\":\"white\",\"linecolor\":\"white\",\"showbackground\":true,\"ticks\":\"\",\"zerolinecolor\":\"white\",\"gridwidth\":2},\"zaxis\":{\"backgroundcolor\":\"#E5ECF6\",\"gridcolor\":\"white\",\"linecolor\":\"white\",\"showbackground\":true,\"ticks\":\"\",\"zerolinecolor\":\"white\",\"gridwidth\":2}},\"shapedefaults\":{\"line\":{\"color\":\"#2a3f5f\"}},\"annotationdefaults\":{\"arrowcolor\":\"#2a3f5f\",\"arrowhead\":0,\"arrowwidth\":1},\"geo\":{\"bgcolor\":\"white\",\"landcolor\":\"#E5ECF6\",\"subunitcolor\":\"white\",\"showland\":true,\"showlakes\":true,\"lakecolor\":\"white\"},\"title\":{\"x\":0.05},\"mapbox\":{\"style\":\"light\"}}},\"xaxis\":{\"anchor\":\"y\",\"domain\":[0.0,1.0],\"title\":{\"text\":\"Monthly Payment 2022\"}},\"yaxis\":{\"anchor\":\"x\",\"domain\":[0.0,1.0],\"title\":{\"text\":\"Monthly Payment 2021\"}},\"legend\":{\"tracegroupgap\":0},\"margin\":{\"t\":60}},                        {\"responsive\": true}                    ).then(function(){\n",
       "                            \n",
       "var gd = document.getElementById('3c38928b-1d68-4f8c-894e-80a30c01cab7');\n",
       "var x = new MutationObserver(function (mutations, observer) {{\n",
       "        var display = window.getComputedStyle(gd).display;\n",
       "        if (!display || display === 'none') {{\n",
       "            console.log([gd, 'removed!']);\n",
       "            Plotly.purge(gd);\n",
       "            observer.disconnect();\n",
       "        }}\n",
       "}});\n",
       "\n",
       "// Listen for the removal of the full notebook cells\n",
       "var notebookContainer = gd.closest('#notebook-container');\n",
       "if (notebookContainer) {{\n",
       "    x.observe(notebookContainer, {childList: true});\n",
       "}}\n",
       "\n",
       "// Listen for the clearing of the current output cell\n",
       "var outputEl = gd.closest('.output');\n",
       "if (outputEl) {{\n",
       "    x.observe(outputEl, {childList: true});\n",
       "}}\n",
       "\n",
       "                        })                };                });            </script>        </div>"
      ]
     },
     "metadata": {},
     "output_type": "display_data"
    }
   ],
   "source": [
    "print(counties.columns)\n",
    "print()\n",
    "px.scatter(counties,x='Monthly Payment 2022', y='Monthly Payment 2021').show()"
   ]
  },
  {
   "cell_type": "code",
   "execution_count": null,
   "metadata": {},
   "outputs": [],
   "source": [
    "df=utils.get_df('./zillowData/State_time_series.csv')\n",
    "sb.histplot(df, x='HomesSoldAsForeclosuresRatio_AllHomes')\n",
    "p=so.Plot(df, x=\"HomesSoldAsForeclosuresRatio_AllHomes\")\n",
    "years=[x[:-6] for x in df['Date'].values.tolist()]\n",
    "p.add(so.Area(), so.KDE(), color=years)"
   ]
  },
  {
   "cell_type": "code",
   "execution_count": null,
   "metadata": {},
   "outputs": [],
   "source": [
    "df=utils.get_df('./zillowData/County_time_series.csv')\n",
    "#print(df.columns)\n",
    "#sb.histplot(df, x='HomesSoldAsForeclosuresRatio_AllHomes')\n",
    "p=so.Plot(df, x=df['Date'].values, y=\"MedianSoldPrice_AllHomes\")\n",
    "years=[x[:-6] for x in df['Date'].values.tolist()]\n",
    "#print(years)\n",
    "p.add(so.Area(), so.KDE(), color=years)\n",
    "#p.add(so.Bars(), so.KDE(), color=years)"
   ]
  },
  {
   "cell_type": "code",
   "execution_count": null,
   "metadata": {},
   "outputs": [],
   "source": [
    "import plotly.express as px\n",
    "df = utils.get_df('./zillowData/County_time_series.csv')\n",
    "\n",
    "fig = px.scatter(df, x=\"gdpPercap\", y=\"lifeExp\",\n",
    "\t         size=\"pop\", color=\"continent\",\n",
    "                 hover_name=\"country\", log_x=True, size_max=60)\n",
    "fig.show()"
   ]
  },
  {
   "cell_type": "code",
   "execution_count": null,
   "metadata": {},
   "outputs": [],
   "source": [
    "df=utils.get_df('./zillowData/County_time_series.csv')\n",
    "sb.kdeplot(df.query(\"MedianListingPricePerSqft_1Bedroom<=1500\"), x='MedianListingPricePerSqft_1Bedroom', color='blue')\n",
    "sb.kdeplot(df.query(\"MedianListingPricePerSqft_2Bedroom<=1500\"), x='MedianListingPricePerSqft_2Bedroom', color='green')\n",
    "sb.kdeplot(df.query(\"MedianListingPricePerSqft_3Bedroom<=1500\"), x='MedianListingPricePerSqft_3Bedroom', color='yellow')\n",
    "sb.kdeplot(df.query(\"MedianListingPricePerSqft_4Bedroom<=1500\"), x='MedianListingPricePerSqft_4Bedroom', color='red')"
   ]
  },
  {
   "cell_type": "code",
   "execution_count": null,
   "metadata": {},
   "outputs": [],
   "source": [
    "from urllib.request import urlopen\n",
    "import json\n",
    "with urlopen('https://raw.githubusercontent.com/plotly/datasets/master/geojson-counties-fips.json') as response:\n",
    "    counties = json.load(response)\n",
    "counties"
   ]
  }
 ],
 "metadata": {
  "kernelspec": {
   "display_name": "Python 3",
   "language": "python",
   "name": "python3"
  },
  "language_info": {
   "codemirror_mode": {
    "name": "ipython",
    "version": 3
   },
   "file_extension": ".py",
   "mimetype": "text/x-python",
   "name": "python",
   "nbconvert_exporter": "python",
   "pygments_lexer": "ipython3",
   "version": "3.10.4"
  },
  "orig_nbformat": 4,
  "vscode": {
   "interpreter": {
    "hash": "3ad933181bd8a04b432d3370b9dc3b0662ad032c4dfaa4e4f1596c548f763858"
   }
  }
 },
 "nbformat": 4,
 "nbformat_minor": 2
}
