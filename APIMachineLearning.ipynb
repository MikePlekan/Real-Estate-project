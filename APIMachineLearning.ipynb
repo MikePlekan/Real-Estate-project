{
 "cells": [
  {
   "cell_type": "code",
   "execution_count": 1,
   "id": "35c72103-2d30-4249-9ea2-666630275aed",
   "metadata": {},
   "outputs": [],
   "source": [
    "import pandas as pd\n",
    "import plotly.express as px\n",
    "import matplotlib.pylab as plt\n",
    "import seaborn as sns\n",
    "\n",
    "\n",
    "import utils as utils\n",
    "\n",
    "from sklearn.model_selection import train_test_split\n",
    "from sklearn.tree import DecisionTreeClassifier\n",
    "from sklearn.ensemble import HistGradientBoostingClassifier\n",
    "from sklearn import svm\n",
    "from sklearn.neural_network import MLPClassifier\n",
    "from sklearn import tree\n",
    "from sklearn import metrics\n",
    "from sklearn import preprocessing\n",
    "\n",
    "%reload_ext autoreload\n",
    "%autoreload 2"
   ]
  },
  {
   "cell_type": "code",
   "execution_count": 2,
   "id": "8c8ad584-975c-4f33-8e08-d709fc36c883",
   "metadata": {},
   "outputs": [],
   "source": [
    "def customAccuracy(predicted, actual, accuracy):\n",
    "    total = 0\n",
    "    true = 0\n",
    "    for i,y in zip(predications,actual):\n",
    "        temp = y * accuracy/100\n",
    "        bottomRange = y - temp\n",
    "        topRange = y + temp\n",
    "        if (i > bottomRange and i < topRange):\n",
    "            true += 1\n",
    "            total += 1\n",
    "        else:\n",
    "            total += 1\n",
    "            \n",
    "    return true/total"
   ]
  },
  {
   "cell_type": "code",
   "execution_count": 3,
   "id": "3deca5e1-d173-4f28-9889-e5c06642266b",
   "metadata": {},
   "outputs": [],
   "source": [
    "url1 = \"https://raw.githubusercontent.com/MikePlekan/Real-Estate-project/Michael/data.csv\"\n",
    "url2 = \"https://raw.githubusercontent.com/MikePlekan/Real-Estate-project/Michael/sales.csv\"\n",
    "\n",
    "df = pd.read_csv(url1)\n",
    "sales = pd.read_csv(url2)"
   ]
  },
  {
   "cell_type": "code",
   "execution_count": 4,
   "id": "e0bf1d23-7a9b-47a0-80c1-fd77c5e36df4",
   "metadata": {},
   "outputs": [
    {
     "name": "stdout",
     "output_type": "stream",
     "text": [
      "accuracy: 0.08\n"
     ]
    },
    {
     "data": {
      "text/plain": [
       "0.20055821371610846"
      ]
     },
     "execution_count": 4,
     "metadata": {},
     "output_type": "execute_result"
    }
   ],
   "source": [
    "X_train, X_test, y_train, y_test = train_test_split(df[['yearbuilt','universalsize','beds','bathstotal']],sales['saleamt'], test_size=0.6, random_state=42)\n",
    "\n",
    "#Decision Tree creatation\n",
    "clf = HistGradientBoostingClassifier()\n",
    "\n",
    "clf.fit(X_train, y_train)\n",
    "\n",
    "predications = clf.predict(X_test)\n",
    "\n",
    "accuracy = metrics.adjusted_rand_score(y_test, predications)\n",
    "\n",
    "print(f\"accuracy: {accuracy:.2f}\")\n",
    "customAccuracy(predications, y_test, 10)"
   ]
  },
  {
   "cell_type": "code",
   "execution_count": null,
   "id": "feaf5583-a0eb-40dc-a78b-bfb8a4ff0224",
   "metadata": {},
   "outputs": [],
   "source": []
  }
 ],
 "metadata": {
  "kernelspec": {
   "display_name": "Python 3 (ipykernel)",
   "language": "python",
   "name": "python3"
  },
  "language_info": {
   "codemirror_mode": {
    "name": "ipython",
    "version": 3
   },
   "file_extension": ".py",
   "mimetype": "text/x-python",
   "name": "python",
   "nbconvert_exporter": "python",
   "pygments_lexer": "ipython3",
   "version": "3.9.13"
  }
 },
 "nbformat": 4,
 "nbformat_minor": 5
}
