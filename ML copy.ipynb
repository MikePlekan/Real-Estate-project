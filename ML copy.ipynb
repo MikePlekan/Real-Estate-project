{
 "cells": [
  {
   "cell_type": "code",
   "execution_count": 10,
   "metadata": {},
   "outputs": [],
   "source": [
    "import pandas as pd\n",
    "import seaborn as sb\n",
    "import seaborn.objects as so\n",
    "import utils as utils\n",
    "import plotly.express as px\n",
    "from sklearn.model_selection import train_test_split\n",
    "from sklearn.tree import DecisionTreeClassifier\n",
    "from sklearn.ensemble import HistGradientBoostingClassifier\n",
    "from sklearn import svm\n",
    "from sklearn.neural_network import MLPClassifier\n",
    "from sklearn import tree\n",
    "from sklearn import metrics\n",
    "%reload_ext autoreload\n",
    "%autoreload 2"
   ]
  },
  {
   "cell_type": "code",
   "execution_count": 12,
   "metadata": {},
   "outputs": [
    {
     "name": "stdout",
     "output_type": "stream",
     "text": [
      "   Unnamed: 0 countrySubd     locality  attomId saleTransDate proptype   \n",
      "0           0          NY  SCHENECTADY    14934    2018-07-06      SFR  \\\n",
      "1           1          NY  SCHENECTADY    19254    2020-11-06      SFR   \n",
      "2           2          NY  SCHENECTADY   227877    2005-07-07      SFR   \n",
      "\n",
      "   yearbuilt  universalsize  beds  bathstotal  \n",
      "0       1940         1401.0   3.0         2.0  \n",
      "1       1910         1250.0   3.0         1.0  \n",
      "2       1900         1512.0   4.0         2.0  \n"
     ]
    }
   ],
   "source": [
    "df=utils.get_df('data.csv')\n",
    "sales=utils.get_df('sales.csv')\n",
    "print(df.head(3))\n",
    "\n",
    "X_train, X_test, y_train, y_test = train_test_split(df[['yearbuilt','universalsize','beds','bathstotal']],sales['saleamt'], test_size=0.2, random_state=42)"
   ]
  },
  {
   "cell_type": "code",
   "execution_count": 19,
   "metadata": {},
   "outputs": [
    {
     "name": "stdout",
     "output_type": "stream",
     "text": [
      "accuracy: 0.01\n"
     ]
    }
   ],
   "source": [
    "#Decision Tree creatation\n",
    "clf = HistGradientBoostingClassifier()\n",
    "\n",
    "clf.fit(X_train, y_train)\n",
    "\n",
    "predications = clf.predict(X_test)\n",
    "\n",
    "accuracy = metrics.adjusted_rand_score(y_test, predications)\n",
    "\n",
    "print(f\"accuracy: {accuracy:.2f}\")"
   ]
  }
 ],
 "metadata": {
  "kernelspec": {
   "display_name": "Python 3 (ipykernel)",
   "language": "python",
   "name": "python3"
  },
  "language_info": {
   "codemirror_mode": {
    "name": "ipython",
    "version": 3
   },
   "file_extension": ".py",
   "mimetype": "text/x-python",
   "name": "python",
   "nbconvert_exporter": "python",
   "pygments_lexer": "ipython3",
   "version": "3.10.4"
  },
  "orig_nbformat": 4
 },
 "nbformat": 4,
 "nbformat_minor": 2
}
