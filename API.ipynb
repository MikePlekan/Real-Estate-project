{
 "cells": [
  {
   "cell_type": "markdown",
   "id": "df07cae9-bc0e-4951-8e1b-fe8a334ad27e",
   "metadata": {},
   "source": [
    "# Use APIWork file now"
   ]
  },
  {
   "cell_type": "code",
   "execution_count": null,
   "id": "e3656b34-bd8c-4d1b-8c83-7bea94ad67b6",
   "metadata": {},
   "outputs": [],
   "source": [
    "import http.client\n",
    "import json\n",
    "import pprint\n",
    "import pandas as pd"
   ]
  },
  {
   "cell_type": "code",
   "execution_count": null,
   "id": "78af97e9-d45d-4006-8a9f-75295ad56558",
   "metadata": {},
   "outputs": [],
   "source": [
    "# conn = http.client.HTTPSConnection(\"api.gateway.attomdata.com\")\n",
    "\n",
    "# headers = { \n",
    "#     'accept': \"application/json\", \n",
    "#     'apikey': \"2b1e86b638620bf2404521e6e9e1b19e\", \n",
    "# } \n",
    "# conn.request(\"GET\", \"/propertyapi/v1.0.0/sale/snapshot?latitude=30.2500&longitude=-97.7500&radius=200&orderBy=saleAmt+desc&pageSize=50\", headers=headers)\n",
    "\n",
    "# res = conn.getresponse()\n",
    "# data = res.read()\n",
    "# with open(\"data.json\", \"w\") as outfile:\n",
    "#     outfile.write(data.decode(\"utf-8\"))\n",
    "# data=json.loads(data.decode(\"utf-8\"))\n",
    "\n",
    "# Opening JSON file\n",
    "\n",
    "with open('data.json', 'r') as openfile:\n",
    " \n",
    "    # Reading from json file\n",
    "    data = json.load(openfile)\n",
    "    \n",
    "[x.pop(\"location\") for x in data['property']]\n",
    "[x.pop(\"lot\") for x in data['property']]\n",
    "[x.pop(\"vintage\") for x in data['property']]\n",
    "df=pd.DataFrame(columns=['countrySubd', 'locality', 'attomId','saleTransDate','proptype','yearbuilt','universalsize'])\n",
    "sales=pd.DataFrame(columns=['saleamt','attomId'])\n",
    "for x in data['property']:\n",
    "    temp=pd.DataFrame({'countrySubd':[x['address'].get('countrySubd')],\n",
    "                        'locality':[x['address'].get('locality')],\n",
    "                        'attomId':[x['identifier'].get('attomId')],\n",
    "                        'saleTransDate':[x['sale'].get('saleTransDate')],\n",
    "                        'proptype':[x['summary'].get('proptype')],\n",
    "                        'yearbuilt':[x['summary'].get('yearbuilt')],\n",
    "                        'universalsize':[x['building'].get('size').get('universalsize')],\n",
    "                      })\n",
    "    df=pd.concat([df,temp],ignore_index=True)\n",
    "    temps=pd.DataFrame({'saleamt':[x['sale']['amount'].get('saleamt')],'attomId':[x['identifier'].get('attomId')]})\n",
    "    sales=pd.concat([sales,temps],ignore_index=True)\n",
    "\n",
    "#df.plot(x='yearbuilt',y='saleTransDate',kind='scatter')\n",
    "\n",
    "pp = pprint.PrettyPrinter(indent=2)\n",
    "\n",
    "with open(\"dict1.txt\", \"w\") as outfile:\n",
    "    outfile.write(pp.pformat(data))"
   ]
  },
  {
   "cell_type": "code",
   "execution_count": null,
   "id": "6863be39-1e50-41d7-883d-07f4b2c7ece4",
   "metadata": {},
   "outputs": [],
   "source": [
    "df"
   ]
  },
  {
   "cell_type": "code",
   "execution_count": null,
   "id": "6fdcb193-1d9c-49c2-b2fa-46e21b8f7dda",
   "metadata": {},
   "outputs": [],
   "source": [
    "pp = pprint.PrettyPrinter(indent=2)\n",
    "data"
   ]
  },
  {
   "cell_type": "code",
   "execution_count": null,
   "id": "fda5aea3-71b8-4e1a-aab3-b1a716845742",
   "metadata": {},
   "outputs": [],
   "source": []
  }
 ],
 "metadata": {
  "kernelspec": {
   "display_name": "Python 3 (ipykernel)",
   "language": "python",
   "name": "python3"
  },
  "language_info": {
   "codemirror_mode": {
    "name": "ipython",
    "version": 3
   },
   "file_extension": ".py",
   "mimetype": "text/x-python",
   "name": "python",
   "nbconvert_exporter": "python",
   "pygments_lexer": "ipython3",
   "version": "3.9.13"
  }
 },
 "nbformat": 4,
 "nbformat_minor": 5
}
