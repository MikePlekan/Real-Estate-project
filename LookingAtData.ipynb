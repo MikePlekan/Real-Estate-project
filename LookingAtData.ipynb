{
 "cells": [
  {
   "cell_type": "code",
   "execution_count": null,
   "id": "022a87b7-7a2c-4984-804c-6b8175b0ad86",
   "metadata": {},
   "outputs": [],
   "source": [
    "import pandas as pd\n",
    "import seaborn as sb\n",
    "#import seaborn.objects as so\n",
    "import utils as utils\n",
    "import matplotlib.pylab as plt\n",
    "%reload_ext autoreload\n",
    "%autoreload 2\n",
    "df=utils.get_df('./zillowData/State_time_series.csv')"
   ]
  },
  {
   "cell_type": "code",
   "execution_count": null,
   "id": "ec1cd6fe-ae57-4f91-a2d9-21cb44b54ed2",
   "metadata": {},
   "outputs": [],
   "source": [
    "#print(df.columns)"
   ]
  },
  {
   "cell_type": "code",
   "execution_count": null,
   "id": "8bc684bc-a85c-4941-a853-1dcde098998d",
   "metadata": {},
   "outputs": [],
   "source": [
    "sb.histplot(df, x='MedianListingPrice_SingleFamilyResidence')\n",
    "#print(len(df['MedianListingPrice_SingleFamilyResidence']))"
   ]
  },
  {
   "cell_type": "code",
   "execution_count": null,
   "id": "b2d09e0c-cb54-4425-979e-b616cc693b02",
   "metadata": {},
   "outputs": [],
   "source": [
    "years = []\n",
    "for i in df['Date']:\n",
    "    years.append(i[:-6])\n",
    "\n",
    "housingPrice = df['MedianListingPrice_SingleFamilyResidence']\n",
    "\n",
    "print(len(housingPrice))\n",
    "#print(years)\n",
    "plt.figure()\n",
    "plt.plot(years, df['MedianListingPrice_SingleFamilyResidence'])"
   ]
  },
  {
   "cell_type": "code",
   "execution_count": null,
   "id": "ce404731-0f9d-4829-b1e8-6adca31d61f1",
   "metadata": {},
   "outputs": [],
   "source": [
    "for i in df['Date']:\n",
    "    years.append(i[:-6])\n",
    "    \n",
    "housingPrice = df['MedianListingPrice_SingleFamilyResidence']\n",
    "print(housingPrice[12000])\n",
    "\n",
    "total = 0\n",
    "num = 0\n",
    "averagePrice = []\n",
    "yearToCheck = int(years[0])\n",
    "print(yearToCheck)\n",
    "\n",
    "for i in range(len(years)-1):\n",
    "    if (yearToCheck<=2017):\n",
    "        i = int(i)\n",
    "        #print(i)\n",
    "        year = int(years[i])\n",
    "        #print(type(year))\n",
    "        if (year == yearToCheck):\n",
    "            #print(\"ifs\")\n",
    "            if (housingPrice[i] != \"nan\"):\n",
    "                total = total + housingPrice[i]\n",
    "                print(housingPrice[i])\n",
    "                num += 1\n",
    "        else:\n",
    "            averagePrice.append(total/num)\n",
    "            yearToCheck += 1\n",
    "            #print(yearToCheck)\n",
    "            #print(\"elses\")\n",
    "            total = 0\n",
    "            num = 0\n",
    "\n",
    "print(yearToCheck)\n",
    "print(averagePrice)\n",
    "\n",
    "#print(len(housingPrice))\n",
    "#print(len(years))\n",
    "plt.figure()\n",
    "plt.plot(df['Date'], df['MedianListingPrice_SingleFamilyResidence'])"
   ]
  },
  {
   "cell_type": "code",
   "execution_count": null,
   "id": "ed03e6c7-c69d-4499-a18a-c1c5e0040c4e",
   "metadata": {},
   "outputs": [],
   "source": [
    "price2015 = [] \n",
    "\n",
    "for i in range(len(years)-1):\n",
    "    i = int(i)\n",
    "    year = int(years[i])\n",
    "    if (year == 2015):\n",
    "        price2015.append(housingPrice[i])\n",
    "        \n",
    "print(pric2015)"
   ]
  },
  {
   "cell_type": "code",
   "execution_count": null,
   "id": "c9e1a816-c781-4bf0-b2f2-810be277ce05",
   "metadata": {},
   "outputs": [],
   "source": []
  }
 ],
 "metadata": {
  "kernelspec": {
   "display_name": "Python 3 (ipykernel)",
   "language": "python",
   "name": "python3"
  },
  "language_info": {
   "codemirror_mode": {
    "name": "ipython",
    "version": 3
   },
   "file_extension": ".py",
   "mimetype": "text/x-python",
   "name": "python",
   "nbconvert_exporter": "python",
   "pygments_lexer": "ipython3",
   "version": "3.9.13"
  }
 },
 "nbformat": 4,
 "nbformat_minor": 5
}
