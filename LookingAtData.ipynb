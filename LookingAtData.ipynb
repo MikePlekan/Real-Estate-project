{
 "cells": [
  {
   "cell_type": "code",
   "execution_count": null,
   "id": "022a87b7-7a2c-4984-804c-6b8175b0ad86",
   "metadata": {},
   "outputs": [],
   "source": [
    "import pandas as pd\n",
    "import seaborn as sb\n",
    "#import seaborn.objects as so\n",
    "import utils as utils\n",
    "%reload_ext autoreload\n",
    "%autoreload 2\n",
    "df=utils.get_df('./zillowData/City_time_series.csv')\n",
    "sb.histplot(df, x=\"\")"
   ]
  }
 ],
 "metadata": {
  "kernelspec": {
   "display_name": "Python 3 (ipykernel)",
   "language": "python",
   "name": "python3"
  },
  "language_info": {
   "codemirror_mode": {
    "name": "ipython",
    "version": 3
   },
   "file_extension": ".py",
   "mimetype": "text/x-python",
   "name": "python",
   "nbconvert_exporter": "python",
   "pygments_lexer": "ipython3",
   "version": "3.9.13"
  }
 },
 "nbformat": 4,
 "nbformat_minor": 5
}
