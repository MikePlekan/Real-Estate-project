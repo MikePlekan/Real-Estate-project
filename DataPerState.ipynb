{
 "cells": [
  {
   "cell_type": "code",
   "execution_count": 4,
   "id": "0eaaaad6-9fd8-4a14-9246-acc8b074ad1d",
   "metadata": {},
   "outputs": [],
   "source": [
    "import pandas as pd\n",
    "import seaborn as sb\n",
    "#import seaborn.objects as so\n",
    "import utils as utils\n",
    "import matplotlib.pylab as plt\n",
    "%reload_ext autoreload\n",
    "%autoreload 2\n",
    "df=utils.get_df('./zillowData/State_time_series.csv')"
   ]
  },
  {
   "cell_type": "code",
   "execution_count": 9,
   "id": "4b198cb6-27df-43cc-89b8-43b27bacbdc1",
   "metadata": {},
   "outputs": [
    {
     "name": "stdout",
     "output_type": "stream",
     "text": [
      "Index(['Date', 'RegionName', 'DaysOnZillow_AllHomes',\n",
      "       'InventorySeasonallyAdjusted_AllHomes', 'InventoryRaw_AllHomes',\n",
      "       'MedianListingPricePerSqft_1Bedroom',\n",
      "       'MedianListingPricePerSqft_2Bedroom',\n",
      "       'MedianListingPricePerSqft_3Bedroom',\n",
      "       'MedianListingPricePerSqft_4Bedroom',\n",
      "       'MedianListingPricePerSqft_5BedroomOrMore',\n",
      "       'MedianListingPricePerSqft_AllHomes',\n",
      "       'MedianListingPricePerSqft_CondoCoop',\n",
      "       'MedianListingPricePerSqft_DuplexTriplex',\n",
      "       'MedianListingPricePerSqft_SingleFamilyResidence',\n",
      "       'MedianListingPrice_1Bedroom', 'MedianListingPrice_2Bedroom',\n",
      "       'MedianListingPrice_3Bedroom', 'MedianListingPrice_4Bedroom',\n",
      "       'MedianListingPrice_5BedroomOrMore', 'MedianListingPrice_AllHomes',\n",
      "       'MedianListingPrice_CondoCoop', 'MedianListingPrice_DuplexTriplex',\n",
      "       'MedianListingPrice_SingleFamilyResidence',\n",
      "       'MedianPctOfPriceReduction_AllHomes',\n",
      "       'MedianPctOfPriceReduction_CondoCoop',\n",
      "       'MedianPctOfPriceReduction_SingleFamilyResidence',\n",
      "       'MedianPriceCutDollar_AllHomes', 'MedianPriceCutDollar_CondoCoop',\n",
      "       'MedianPriceCutDollar_SingleFamilyResidence',\n",
      "       'MedianRentalPricePerSqft_1Bedroom',\n",
      "       'MedianRentalPricePerSqft_2Bedroom',\n",
      "       'MedianRentalPricePerSqft_3Bedroom',\n",
      "       'MedianRentalPricePerSqft_4Bedroom',\n",
      "       'MedianRentalPricePerSqft_5BedroomOrMore',\n",
      "       'MedianRentalPricePerSqft_AllHomes',\n",
      "       'MedianRentalPricePerSqft_CondoCoop',\n",
      "       'MedianRentalPricePerSqft_DuplexTriplex',\n",
      "       'MedianRentalPricePerSqft_MultiFamilyResidence5PlusUnits',\n",
      "       'MedianRentalPricePerSqft_SingleFamilyResidence',\n",
      "       'MedianRentalPricePerSqft_Studio', 'MedianRentalPrice_1Bedroom',\n",
      "       'MedianRentalPrice_2Bedroom', 'MedianRentalPrice_3Bedroom',\n",
      "       'MedianRentalPrice_4Bedroom', 'MedianRentalPrice_5BedroomOrMore',\n",
      "       'MedianRentalPrice_AllHomes', 'MedianRentalPrice_CondoCoop',\n",
      "       'MedianRentalPrice_DuplexTriplex',\n",
      "       'MedianRentalPrice_MultiFamilyResidence5PlusUnits',\n",
      "       'MedianRentalPrice_SingleFamilyResidence', 'MedianRentalPrice_Studio',\n",
      "       'ZHVIPerSqft_AllHomes', 'PctOfHomesDecreasingInValues_AllHomes',\n",
      "       'PctOfHomesIncreasingInValues_AllHomes',\n",
      "       'PctOfHomesSellingForGain_AllHomes',\n",
      "       'PctOfHomesSellingForLoss_AllHomes',\n",
      "       'PctOfListingsWithPriceReductionsSeasAdj_AllHomes',\n",
      "       'PctOfListingsWithPriceReductionsSeasAdj_CondoCoop',\n",
      "       'PctOfListingsWithPriceReductionsSeasAdj_SingleFamilyResidence',\n",
      "       'PctOfListingsWithPriceReductions_AllHomes',\n",
      "       'PctOfListingsWithPriceReductions_CondoCoop',\n",
      "       'PctOfListingsWithPriceReductions_SingleFamilyResidence',\n",
      "       'PriceToRentRatio_AllHomes', 'Sale_Counts', 'Sale_Counts_Seas_Adj',\n",
      "       'Sale_Prices', 'ZHVI_1bedroom', 'ZHVI_2bedroom', 'ZHVI_3bedroom',\n",
      "       'ZHVI_4bedroom', 'ZHVI_5BedroomOrMore', 'ZHVI_AllHomes',\n",
      "       'ZHVI_BottomTier', 'ZHVI_CondoCoop', 'ZHVI_MiddleTier',\n",
      "       'ZHVI_SingleFamilyResidence', 'ZHVI_TopTier', 'ZRI_AllHomes',\n",
      "       'ZRI_AllHomesPlusMultifamily', 'ZriPerSqft_AllHomes',\n",
      "       'Zri_MultiFamilyResidenceRental', 'Zri_SingleFamilyResidenceRental'],\n",
      "      dtype='object')\n"
     ]
    }
   ],
   "source": [
    "print(df.columns)"
   ]
  },
  {
   "cell_type": "code",
   "execution_count": null,
   "id": "d20b8f81-ec15-484b-be56-b98341d1a80e",
   "metadata": {},
   "outputs": [],
   "source": []
  }
 ],
 "metadata": {
  "kernelspec": {
   "display_name": "Python 3 (ipykernel)",
   "language": "python",
   "name": "python3"
  },
  "language_info": {
   "codemirror_mode": {
    "name": "ipython",
    "version": 3
   },
   "file_extension": ".py",
   "mimetype": "text/x-python",
   "name": "python",
   "nbconvert_exporter": "python",
   "pygments_lexer": "ipython3",
   "version": "3.9.13"
  }
 },
 "nbformat": 4,
 "nbformat_minor": 5
}
