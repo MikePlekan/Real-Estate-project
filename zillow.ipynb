{
 "cells": [
  {
   "cell_type": "code",
   "execution_count": null,
   "metadata": {},
   "outputs": [],
   "source": [
    "import pandas as pd\n",
    "import seaborn as sb\n",
    "import seaborn.objects as so\n",
    "import utils as utils\n",
    "import plotly.express as px\n",
    "%reload_ext autoreload\n",
    "%autoreload 2\n",
    "\n"
   ]
  },
  {
   "cell_type": "code",
   "execution_count": null,
   "metadata": {},
   "outputs": [],
   "source": [
    "#only uncomment and run if the county.csv needs to be created\n",
    "#cleaning of the csv will need to be done after running, deletion of extra newlines and spaces\n",
    "\n",
    "# import tabula\n",
    "# df=tabula.read_pdf(\"2022-q3-county-median-prices-and-monthly-mortgage-payment-by-price-12-20-2022.pdf\" , pages='all', pandas_options={'header':None})\n",
    "# temp=df[0]\n",
    "# temp=temp.append(df[1],ignore_index=True)\n",
    "# temp=temp.append(df[2],ignore_index=True)\n",
    "# temp=temp.append(df[3],ignore_index=True)\n",
    "# temp=temp.append(df[4],ignore_index=True)\n",
    "# temp=temp.append(df[5],ignore_index=True)\n",
    "# temp=temp.append(df[6],ignore_index=True)\n",
    "# temp.columns=temp.iloc[0]\n",
    "# temp=temp.drop(0,axis=0)\n",
    "# temp.to_csv('county.csv', index=False)"
   ]
  },
  {
   "cell_type": "code",
   "execution_count": null,
   "metadata": {},
   "outputs": [],
   "source": [
    "counties=pd.read_csv('./county.csv', thousands=',')\n",
    "counties.columns\n"
   ]
  },
  {
   "cell_type": "code",
   "execution_count": null,
   "metadata": {},
   "outputs": [],
   "source": [
    "counties.describe()"
   ]
  },
  {
   "cell_type": "code",
   "execution_count": null,
   "metadata": {},
   "outputs": [],
   "source": [
    "print(counties.columns)\n",
    "print()\n",
    "px.scatter(counties,x='Monthly Payment 2022', y='Monthly Payment 2021').show()"
   ]
  },
  {
   "cell_type": "code",
   "execution_count": null,
   "metadata": {},
   "outputs": [],
   "source": [
    "df=utils.get_df('./zillowData/State_time_series.csv')\n",
    "sb.histplot(df, x='HomesSoldAsForeclosuresRatio_AllHomes')\n",
    "p=so.Plot(df, x=\"HomesSoldAsForeclosuresRatio_AllHomes\")\n",
    "years=[x[:-6] for x in df['Date'].values.tolist()]\n",
    "p.add(so.Area(), so.KDE(), color=years)"
   ]
  },
  {
   "cell_type": "code",
   "execution_count": null,
   "metadata": {},
   "outputs": [],
   "source": [
    "df=utils.get_df('./zillowData/County_time_series.csv')\n",
    "#print(df.columns)\n",
    "#sb.histplot(df, x='HomesSoldAsForeclosuresRatio_AllHomes')\n",
    "p=so.Plot(df, x=df['Date'].values, y=\"MedianSoldPrice_AllHomes\")\n",
    "years=[x[:-6] for x in df['Date'].values.tolist()]\n",
    "#print(years)\n",
    "p.add(so.Area(), so.KDE(), color=years)\n",
    "#p.add(so.Bars(), so.KDE(), color=years)"
   ]
  },
  {
   "cell_type": "code",
   "execution_count": null,
   "metadata": {},
   "outputs": [],
   "source": [
    "import plotly.express as px\n",
    "df = utils.get_df('./zillowData/County_time_series.csv')\n",
    "\n",
    "fig = px.scatter(df, x=\"gdpPercap\", y=\"lifeExp\",\n",
    "\t         size=\"pop\", color=\"continent\",\n",
    "                 hover_name=\"country\", log_x=True, size_max=60)\n",
    "fig.show()"
   ]
  },
  {
   "cell_type": "code",
   "execution_count": null,
   "metadata": {},
   "outputs": [],
   "source": [
    "df=utils.get_df('./zillowData/County_time_series.csv')\n",
    "sb.kdeplot(df.query(\"MedianListingPricePerSqft_1Bedroom<=1500\"), x='MedianListingPricePerSqft_1Bedroom', color='blue')\n",
    "sb.kdeplot(df.query(\"MedianListingPricePerSqft_2Bedroom<=1500\"), x='MedianListingPricePerSqft_2Bedroom', color='green')\n",
    "sb.kdeplot(df.query(\"MedianListingPricePerSqft_3Bedroom<=1500\"), x='MedianListingPricePerSqft_3Bedroom', color='yellow')\n",
    "sb.kdeplot(df.query(\"MedianListingPricePerSqft_4Bedroom<=1500\"), x='MedianListingPricePerSqft_4Bedroom', color='red')"
   ]
  },
  {
   "cell_type": "code",
   "execution_count": null,
   "metadata": {},
   "outputs": [],
   "source": [
    "from urllib.request import urlopen\n",
    "import json\n",
    "with urlopen('https://raw.githubusercontent.com/plotly/datasets/master/geojson-counties-fips.json') as response:\n",
    "    counties = json.load(response)\n",
    "counties"
   ]
  }
 ],
 "metadata": {
  "kernelspec": {
   "display_name": "Python 3",
   "language": "python",
   "name": "python3"
  },
  "language_info": {
   "codemirror_mode": {
    "name": "ipython",
    "version": 3
   },
   "file_extension": ".py",
   "mimetype": "text/x-python",
   "name": "python",
   "nbconvert_exporter": "python",
   "pygments_lexer": "ipython3",
   "version": "3.10.4"
  },
  "orig_nbformat": 4,
  "vscode": {
   "interpreter": {
    "hash": "3ad933181bd8a04b432d3370b9dc3b0662ad032c4dfaa4e4f1596c548f763858"
   }
  }
 },
 "nbformat": 4,
 "nbformat_minor": 2
}
