{
 "cells": [
  {
   "cell_type": "code",
   "execution_count": 11,
   "id": "106f65ee-97e3-495e-ac97-d14c80c927e6",
   "metadata": {},
   "outputs": [],
   "source": [
    "import pandas as pd\n",
    "import seaborn as sb\n",
    "#import seaborn.objects as so\n",
    "import utils as utils\n",
    "%reload_ext autoreload\n",
    "%autoreload 2\n",
    "df=utils.get_df('./zillowData/City_time_series.csv')"
   ]
  },
  {
   "cell_type": "code",
   "execution_count": null,
   "id": "4247d558-f8d2-465d-9e57-f8ce68a8a4ab",
   "metadata": {},
   "outputs": [],
   "source": [
    "so.histplot(df, x=\"RegionName\")"
   ]
  },
  {
   "cell_type": "code",
   "execution_count": null,
   "id": "dce872da-4a52-4dac-92d8-e17f2a353535",
   "metadata": {},
   "outputs": [],
   "source": [
    "so.Plot(flights[\"Date\"], flights[\"RegionName\"]).add(so.Bar())"
   ]
  },
  {
   "cell_type": "code",
   "execution_count": null,
   "id": "603b5782-2bfb-4846-bfb7-978f5c4984be",
   "metadata": {},
   "outputs": [],
   "source": []
  }
 ],
 "metadata": {
  "kernelspec": {
   "display_name": "Python 3 (ipykernel)",
   "language": "python",
   "name": "python3"
  },
  "language_info": {
   "codemirror_mode": {
    "name": "ipython",
    "version": 3
   },
   "file_extension": ".py",
   "mimetype": "text/x-python",
   "name": "python",
   "nbconvert_exporter": "python",
   "pygments_lexer": "ipython3",
   "version": "3.9.13"
  }
 },
 "nbformat": 4,
 "nbformat_minor": 5
}
