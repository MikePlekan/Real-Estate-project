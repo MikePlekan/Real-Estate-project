{
 "cells": [
  {
   "cell_type": "code",
   "execution_count": null,
   "metadata": {},
   "outputs": [],
   "source": [
    "import pandas as pd\n",
    "import seaborn as sb\n",
    "import seaborn.objects as so\n",
    "import utils as utils\n",
    "%reload_ext autoreload\n",
    "%autoreload 2\n",
    "\n",
    "df=utils.get_df('./zillowData/State_time_series.csv')\n",
    "sb.histplot(df, x='HomesSoldAsForeclosuresRatio_AllHomes')\n",
    "p=so.Plot(df, x=\"HomesSoldAsForeclosuresRatio_AllHomes\")\n",
    "years=[x[:-6] for x in df['Date'].values.tolist()]\n",
    "print(years)\n",
    "p.add(so.Area(), so.KDE(), color=years)"
   ]
  }
 ],
 "metadata": {
  "kernelspec": {
   "display_name": "Python 3",
   "language": "python",
   "name": "python3"
  },
  "language_info": {
   "codemirror_mode": {
    "name": "ipython",
    "version": 3
   },
   "file_extension": ".py",
   "mimetype": "text/x-python",
   "name": "python",
   "nbconvert_exporter": "python",
   "pygments_lexer": "ipython3",
   "version": "3.10.4"
  },
  "orig_nbformat": 4
 },
 "nbformat": 4,
 "nbformat_minor": 2
}
